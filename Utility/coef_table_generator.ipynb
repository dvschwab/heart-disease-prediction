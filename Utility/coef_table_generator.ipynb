{
 "cells": [
  {
   "cell_type": "code",
   "execution_count": 72,
   "metadata": {},
   "outputs": [
    {
     "data": {
      "text/html": [
       "<div>\n",
       "<style scoped>\n",
       "    .dataframe tbody tr th:only-of-type {\n",
       "        vertical-align: middle;\n",
       "    }\n",
       "\n",
       "    .dataframe tbody tr th {\n",
       "        vertical-align: top;\n",
       "    }\n",
       "\n",
       "    .dataframe thead th {\n",
       "        text-align: right;\n",
       "    }\n",
       "</style>\n",
       "<table border=\"1\" class=\"dataframe\">\n",
       "  <thead>\n",
       "    <tr style=\"text-align: right;\">\n",
       "      <th></th>\n",
       "      <th>clf_reduced</th>\n",
       "    </tr>\n",
       "    <tr>\n",
       "      <th>coef</th>\n",
       "      <th></th>\n",
       "    </tr>\n",
       "  </thead>\n",
       "  <tbody>\n",
       "    <tr>\n",
       "      <th>age</th>\n",
       "      <td>0.00</td>\n",
       "    </tr>\n",
       "    <tr>\n",
       "      <th>sex</th>\n",
       "      <td>0.94</td>\n",
       "    </tr>\n",
       "    <tr>\n",
       "      <th>chest_pain</th>\n",
       "      <td>-1.13</td>\n",
       "    </tr>\n",
       "    <tr>\n",
       "      <th>max_heart_rate</th>\n",
       "      <td>-0.02</td>\n",
       "    </tr>\n",
       "    <tr>\n",
       "      <th>angina</th>\n",
       "      <td>0.76</td>\n",
       "    </tr>\n",
       "    <tr>\n",
       "      <th>oldpeak</th>\n",
       "      <td>0.52</td>\n",
       "    </tr>\n",
       "    <tr>\n",
       "      <th>ST_slope</th>\n",
       "      <td>-0.76</td>\n",
       "    </tr>\n",
       "    <tr>\n",
       "      <th>flouroscopy</th>\n",
       "      <td>1.89</td>\n",
       "    </tr>\n",
       "    <tr>\n",
       "      <th>heart_defect</th>\n",
       "      <td>1.43</td>\n",
       "    </tr>\n",
       "  </tbody>\n",
       "</table>\n",
       "</div>"
      ],
      "text/plain": [
       "                        clf_reduced\n",
       "coef                               \n",
       "age                            0.00\n",
       "sex                            0.94\n",
       "chest_pain                    -1.13\n",
       "max_heart_rate                -0.02\n",
       "angina                         0.76\n",
       "oldpeak                        0.52\n",
       "ST_slope                      -0.76\n",
       "flouroscopy                    1.89\n",
       "heart_defect                   1.43"
      ]
     },
     "execution_count": 72,
     "metadata": {},
     "output_type": "execute_result"
    }
   ],
   "source": [
    "# Code to export the coefficient dataframe\n",
    "# after making it easier to read.\n",
    "# You'll need to run the original script\n",
    "# to get the coef_df to use this.\n",
    "\n",
    "df = coef_df\n",
    "df.drop(['clf_all', 'clf_trimmed'], axis='columns', inplace=True)\n",
    "df.drop(['rest_bp', 'chol', 'blood_sugar', 'restecg'], axis='index', inplace=True)\n",
    "\n",
    "df.rename_axis(index= {'coef': 'feature'}, axis='index', inplace=True)\n",
    "df.rename(columns = {'clf_reduced': 'value'}, inplace=True)\n",
    "\n",
    "import dataframe_image as dfi\n",
    "dfi.export(df, 'coefficient_figure.png')"
   ]
  }
 ],
 "metadata": {
  "kernelspec": {
   "display_name": "Python 3",
   "language": "python",
   "name": "python3"
  },
  "language_info": {
   "codemirror_mode": {
    "name": "ipython",
    "version": 3
   },
   "file_extension": ".py",
   "mimetype": "text/x-python",
   "name": "python",
   "nbconvert_exporter": "python",
   "pygments_lexer": "ipython3",
   "version": "3.8.3"
  }
 },
 "nbformat": 4,
 "nbformat_minor": 4
}
