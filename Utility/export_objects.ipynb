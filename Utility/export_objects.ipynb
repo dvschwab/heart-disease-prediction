{
 "cells": [
  {
   "cell_type": "markdown",
   "metadata": {},
   "source": [
    "# Export Objects\n",
    "\n",
    "These code snippets generate the images used in the README file. The first snippet generates representative data (10 rows from the reduced model) after reforming it to make it more understandable. The second snippet generates an image of the coefficient dataframe that displays the coefficient estimates for the reduced model. In both cases, the *dataframe_image module* is used and must be available in the working environment (note that it is included in the `heart-disease-deploy-env.yaml` file.\n",
    "\n",
    "The next few snippets export summary statistics generated with *describe()*; a heatmap of the feature correlation matrix; and a representative boxplot illustrating the relationship between the target and a continuous feature. The *dataframe_image* module is used for the summary statistics, while the *figure* class from *matplotlib* is used for the graphs."
   ]
  },
  {
   "cell_type": "code",
   "execution_count": 2,
   "metadata": {},
   "outputs": [],
   "source": [
    "import pandas as pd\n",
    "import numpy as np\n",
    "import dataframe_image as dfi\n",
    "from matplotlib import pyplot as plt\n",
    "import seaborn as sns"
   ]
  },
  {
   "cell_type": "code",
   "execution_count": 3,
   "metadata": {},
   "outputs": [],
   "source": [
    "# Import df used to estimate the reduced model\n",
    "\n",
    "heart_model_input_df = pd.read_csv('../Data/heart_model_input.csv')"
   ]
  },
  {
   "cell_type": "markdown",
   "metadata": {},
   "source": [
    "## Export Representative Data Frame Image"
   ]
  },
  {
   "cell_type": "code",
   "execution_count": 4,
   "metadata": {},
   "outputs": [],
   "source": [
    "%%script false --no-raise-error\n",
    "# Make a data frame with representative values for presentation\n",
    "\n",
    "# Drop unneccessary columns\n",
    "# Note were are using the reduced model for this\n",
    "\n",
    "drop_list = ['rest_bp', 'chol', 'blood_sugar', 'restecg', 'age_scaled', 'rest_bp_scaled', 'chol_scaled', 'max_heart_rate_scaled', 'oldpeak_scaled', 'outlier']\n",
    "heart_model_input_df.drop(drop_list, axis='columns', inplace=True)"
   ]
  },
  {
   "cell_type": "code",
   "execution_count": 5,
   "metadata": {},
   "outputs": [],
   "source": [
    "%%script false --no-raise-error\n",
    "# Create a df with a small random sample of the data\n",
    "# so the Boolean fields aren't all one value\n",
    "# You may need to run it a few times to get a good sample\n",
    "\n",
    "random_state = 321\n",
    "\n",
    "# Make a new df, since we need the full one later\n",
    "\n",
    "heart_model_sample_df = heart_model_input_df.sample(n = 10, random_state = random_state, replace = False)\n",
    "heart_model_sample_df.head(10)"
   ]
  },
  {
   "cell_type": "code",
   "execution_count": 6,
   "metadata": {},
   "outputs": [],
   "source": [
    "%%script false --no-raise-error\n",
    "# Change Boolean features to text and recode them\n",
    "# with more understandable names\n",
    "\n",
    "# Make a dictionary with each column dtype as string\n",
    "# Then do the cast\n",
    "\n",
    "cast_list = ['sex', 'chest_pain', 'angina', 'ST_slope', 'flouroscopy', 'heart_defect', 'heart_disease']\n",
    "cast_dict = {k: 'string' for k in cast_list}\n",
    "heart_model_cast_df = heart_model_sample_df.astype(cast_dict).copy()\n",
    "\n",
    "# Now, do the recode\n",
    "# Sex and flouroscopy have different values and are handled separately\n",
    "\n",
    "heart_model_cast_df.replace({'sex': {'0': 'Male', '1': 'Female'}}, inplace = True)\n",
    "heart_model_cast_df.replace({'flouroscopy': {'0': 'Zero', '1': 'Nonzero'}}, inplace = True)\n",
    "\n",
    "recode_list = ['chest_pain', 'angina', 'ST_slope', 'heart_defect', 'heart_disease']\n",
    "recode_dict = {k: {'0': 'No', '1': 'Yes'} for k in recode_list}\n",
    "\n",
    "heart_model_cast_df.replace(recode_dict, inplace=True)\n",
    "heart_model_cast_df.reset_index(drop=True, inplace=True)"
   ]
  },
  {
   "cell_type": "code",
   "execution_count": 7,
   "metadata": {},
   "outputs": [],
   "source": [
    "%%script false --no-raise-error\n",
    "# Generate an image of the df to add to the README\n",
    "\n",
    "dfi.export(heart_model_cast_df, '../Images/heart_df_present.png')"
   ]
  },
  {
   "cell_type": "code",
   "execution_count": 8,
   "metadata": {},
   "outputs": [],
   "source": [
    "%%script false --no-raise-error\n",
    "# Code to export the coefficient dataframe after making it easier to read.\n",
    "\n",
    "# Load the full coefficient dataframe\n",
    "\n",
    "coef_df_all = pd.read_csv('../Data/coefficient_df.csv')\n",
    "coef_df_all.set_index('coef', inplace = True)"
   ]
  },
  {
   "cell_type": "code",
   "execution_count": 9,
   "metadata": {},
   "outputs": [],
   "source": [
    "%%script false --no-raise-error\n",
    "# Generate the df containing only the reduced model to export\n",
    "\n",
    "df = coef_df_all.copy()\n",
    "\n",
    "# Drop uneccesary columns and rows\n",
    "\n",
    "df.drop(['clf_all', 'clf_trimmed'], axis='columns', inplace=True)\n",
    "df.drop(['rest_bp', 'chol', 'blood_sugar', 'restecg'], axis='index', inplace=True)\n",
    "\n",
    "# Rename column and index so they are easier to understand\n",
    "\n",
    "df.rename_axis(index= {'coef': 'feature'}, axis='index', inplace=True)\n",
    "df.rename(columns = {'clf_reduced': 'value'}, inplace=True)\n",
    "\n",
    "# Round feature column to three decimal places\n",
    "\n",
    "# df_formatted = df.round({'value': 2})\n",
    "# df_formatted\n",
    "\n",
    "pd.options.display.float_format = '{:20,.2f}'.format\n",
    "dfi.export(df, '../Images/coefficient_figure.png')"
   ]
  },
  {
   "cell_type": "code",
   "execution_count": 10,
   "metadata": {},
   "outputs": [],
   "source": [
    "%%script false --no-raise-error\n",
    "# Export summary statistics for the reduced model\n",
    "# Need to set float format so only two decimals are displayed\n",
    "\n",
    "pd.options.display.float_format = '{:20,.2f}'.format\n",
    "cols = ['age', 'max_heart_rate', 'oldpeak']\n",
    "\n",
    "summary_df = heart_model_input_df[cols].describe()\n",
    "summary_df\n",
    "dfi.export(summary_df, '../Images/heart_disease_summary.png')"
   ]
  },
  {
   "cell_type": "code",
   "execution_count": 11,
   "metadata": {},
   "outputs": [],
   "source": [
    "%%script false --no-raise-error\n",
    "# Export the correlation matrix for the reduced model\n",
    "# as a heatmap\n",
    "\n",
    "pd.options.display.float_format = '{:20,.2f}'.format\n",
    "cols = ['age', 'max_heart_rate', 'oldpeak']\n",
    "\n",
    "cors = np.corrcoef(heart_model_input_df[cols], rowvar=False)\n",
    "\n",
    "heart_heatmap = sns.heatmap(cors, vmin=-1, vmax=1, center=0, cmap=\"YlGnBu\", linewidths = .25, xticklabels = cols, yticklabels=cols)\n",
    "heart_heatmap\n",
    "\n",
    "fig = heart_heatmap.get_figure()\n",
    "fig.savefig('../Images/heart_corr_heatmap.png')"
   ]
  },
  {
   "cell_type": "code",
   "execution_count": 31,
   "metadata": {},
   "outputs": [
    {
     "ename": "ValueError",
     "evalue": "The Axes must have been created in the present figure",
     "output_type": "error",
     "traceback": [
      "\u001b[1;31m---------------------------------------------------------------------------\u001b[0m",
      "\u001b[1;31mValueError\u001b[0m                                Traceback (most recent call last)",
      "\u001b[1;32m<ipython-input-31-309bf5c801a9>\u001b[0m in \u001b[0;36m<module>\u001b[1;34m\u001b[0m\n\u001b[0;32m     41\u001b[0m \u001b[1;33m\u001b[0m\u001b[0m\n\u001b[0;32m     42\u001b[0m \u001b[0mfig\u001b[0m \u001b[1;33m=\u001b[0m \u001b[0mplt\u001b[0m\u001b[1;33m.\u001b[0m\u001b[0mfigure\u001b[0m\u001b[1;33m(\u001b[0m\u001b[1;33m)\u001b[0m\u001b[1;33m\u001b[0m\u001b[1;33m\u001b[0m\u001b[0m\n\u001b[1;32m---> 43\u001b[1;33m \u001b[0mfig\u001b[0m\u001b[1;33m.\u001b[0m\u001b[0madd_axes\u001b[0m\u001b[1;33m(\u001b[0m\u001b[0max\u001b[0m\u001b[1;33m)\u001b[0m\u001b[1;33m\u001b[0m\u001b[1;33m\u001b[0m\u001b[0m\n\u001b[0m\u001b[0;32m     44\u001b[0m \u001b[1;33m\u001b[0m\u001b[0m\n\u001b[0;32m     45\u001b[0m \u001b[0mplt\u001b[0m\u001b[1;33m.\u001b[0m\u001b[0mshow\u001b[0m\u001b[1;33m(\u001b[0m\u001b[1;33m)\u001b[0m\u001b[1;33m\u001b[0m\u001b[1;33m\u001b[0m\u001b[0m\n",
      "\u001b[1;32m~\\anaconda3\\envs\\heart-disease-deploy\\lib\\site-packages\\matplotlib\\figure.py\u001b[0m in \u001b[0;36madd_axes\u001b[1;34m(self, *args, **kwargs)\u001b[0m\n\u001b[0;32m   1230\u001b[0m             \u001b[0ma\u001b[0m \u001b[1;33m=\u001b[0m \u001b[0margs\u001b[0m\u001b[1;33m[\u001b[0m\u001b[1;36m0\u001b[0m\u001b[1;33m]\u001b[0m\u001b[1;33m\u001b[0m\u001b[1;33m\u001b[0m\u001b[0m\n\u001b[0;32m   1231\u001b[0m             \u001b[1;32mif\u001b[0m \u001b[0ma\u001b[0m\u001b[1;33m.\u001b[0m\u001b[0mget_figure\u001b[0m\u001b[1;33m(\u001b[0m\u001b[1;33m)\u001b[0m \u001b[1;32mis\u001b[0m \u001b[1;32mnot\u001b[0m \u001b[0mself\u001b[0m\u001b[1;33m:\u001b[0m\u001b[1;33m\u001b[0m\u001b[1;33m\u001b[0m\u001b[0m\n\u001b[1;32m-> 1232\u001b[1;33m                 raise ValueError(\n\u001b[0m\u001b[0;32m   1233\u001b[0m                     \"The Axes must have been created in the present figure\")\n\u001b[0;32m   1234\u001b[0m         \u001b[1;32melse\u001b[0m\u001b[1;33m:\u001b[0m\u001b[1;33m\u001b[0m\u001b[1;33m\u001b[0m\u001b[0m\n",
      "\u001b[1;31mValueError\u001b[0m: The Axes must have been created in the present figure"
     ]
    },
    {
     "data": {
      "image/png": "[encoded data removed]",
      "text/plain": [
       "<Figure size 432x288 with 1 Axes>"
      ]
     },
     "metadata": {},
     "output_type": "display_data"
    },
    {
     "data": {
      "text/plain": [
       "<Figure size 432x288 with 0 Axes>"
      ]
     },
     "metadata": {},
     "output_type": "display_data"
    }
   ],
   "source": [
    "#%%script false --no-raise-error\n",
    "\n",
    "# Export a boxplot of the target vs. max_heart_rate\n",
    "# Color options used to get a more appealing figure\n",
    "\n",
    "sns.set_style('darkgrid')\n",
    "\n",
    "# Set colors for features (blue for no disease and green for disease)\n",
    "# Transparency (0 - 1; 0 is fully transparent)\n",
    "boxplot_palette = {\n",
    "     'No': 'b',\n",
    "     'Yes': 'g'\n",
    "}\n",
    "\n",
    "transparency = 0.3\n",
    "\n",
    "# Recode target to Yes and No\n",
    "\n",
    "boxplot_df = heart_model_input_df[\n",
    "    heart_model_input_df['outlier'] == False] \\\n",
    "    .loc[:, ['max_heart_rate', 'heart_disease']].copy()\n",
    "\n",
    "boxplot_df.replace(\n",
    "    {\n",
    "        'heart_disease': {0: 'No', 1: 'Yes'}\n",
    "    }, inplace=True)\n",
    "\n",
    "# Define the plot; outliers are excluded\n",
    "# so difference in distributions is clearer\n",
    "\n",
    "ax = sns.boxplot(x=\"heart_disease\", y=\"max_heart_rate\",\n",
    "            data=boxplot_df,\n",
    "            palette = boxplot_palette,\n",
    "            linewidth = 2)\n",
    "\n",
    "# Set the transparency\n",
    "\n",
    "for patch in ax.artists:\n",
    "    r, g, b, a = patch.get_facecolor()\n",
    "    patch.set_facecolor((r, g, b, transparency))\n",
    "    \n",
    "fig = plt.figure()\n",
    "fig.add_axes(ax)\n",
    "    \n",
    "plt.show()\n",
    "\n",
    "# Export to PNG\n",
    "\n",
    "plt.savefig('../Images/boxplot_heart_rate_vs_disease.png')"
   ]
  },
  {
   "cell_type": "code",
   "execution_count": null,
   "metadata": {},
   "outputs": [],
   "source": []
  }
 ],
 "metadata": {
  "kernelspec": {
   "display_name": "heart-disease-deploy",
   "language": "python",
   "name": "heart-disease-deploy"
  },
  "language_info": {
   "codemirror_mode": {
    "name": "ipython",
    "version": 3
   },
   "file_extension": ".py",
   "mimetype": "text/x-python",
   "name": "python",
   "nbconvert_exporter": "python",
   "pygments_lexer": "ipython3",
   "version": "3.8.10"
  }
 },
 "nbformat": 4,
 "nbformat_minor": 4
}
