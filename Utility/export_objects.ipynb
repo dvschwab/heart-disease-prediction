{
 "cells": [
  {
   "cell_type": "markdown",
   "metadata": {},
   "source": [
    "These code snippets generate the dataframe images used in the README file. The first snippet generates the representative data (10 rows from the reduced model) from a CSV file that was reformatted in OpenOffice to make it more understandable. The second snippet generates an image of the coefficient dataframe that displays the coefficient estimates for the reduced model. In both cases, the dataframe_image module."
   ]
  },
  {
   "cell_type": "code",
   "execution_count": 1,
   "metadata": {},
   "outputs": [],
   "source": [
    "import pandas as pd\n",
    "import dataframe_image as dfi"
   ]
  },
  {
   "cell_type": "code",
   "execution_count": 2,
   "metadata": {},
   "outputs": [],
   "source": [
    "# Set random state for all operations\n",
    "random_state = 525"
   ]
  },
  {
   "cell_type": "code",
   "execution_count": 3,
   "metadata": {},
   "outputs": [],
   "source": [
    "# Export an image of representative data (10 rows)\n",
    "\n",
    "heart_model_input_df = pd.read_csv('../Data/heart_model_input.csv')"
   ]
  },
  {
   "cell_type": "code",
   "execution_count": 4,
   "metadata": {},
   "outputs": [],
   "source": [
    "# Make a data frame with representative values for presentation\n",
    "\n",
    "# Drop unneccessary columns\n",
    "# Note were are using the reduced model for this\n",
    "\n",
    "drop_list = ['rest_bp', 'chol', 'blood_sugar', 'restecg', 'age_scaled', 'rest_bp_scaled', 'chol_scaled', 'max_heart_rate_scaled', 'oldpeak_scaled', 'outlier']\n",
    "heart_model_input_df.drop(drop_list, axis='columns', inplace=True)"
   ]
  },
  {
   "cell_type": "code",
   "execution_count": 10,
   "metadata": {},
   "outputs": [],
   "source": [
    "# Create a df with a small random sample of the data\n",
    "# so the Boolean fields aren't all one value\n",
    "\n",
    "value_counts = heart_model_input_df['heart_disease'].value_counts()\n",
    "idx = pd.Index(['No', 'Yes'], name = 'heart_disease')\n",
    "value_counts.reset_index()\n",
    "denom = len(heart_model_input_df)\n",
    "\n",
    "weights = []\n",
    "for idx in range(heart_model_input_df.index):\n",
    "    if idx <= value_counts[0]:\n",
    "        \n",
    "\n",
    "# heart_model_sample_df = heart_model_input_df.sample(n = 10, replace = False, weights = 'heart_disease', random_state = random_state)"
   ]
  },
  {
   "cell_type": "code",
   "execution_count": null,
   "metadata": {},
   "outputs": [],
   "source": [
    "# Change Boolean features to text and recode them\n",
    "# with more understandable names\n",
    "\n",
    "# Make a dictionary with each column dtype as string\n",
    "# Then do the cast\n",
    "cast_list = ['sex', 'chest_pain', 'angina', 'ST_slope', 'flouroscopy', 'heart_defect', 'heart_disease']\n",
    "cast_dict = {k: 'string' for k in cast_list}\n",
    "heart_model_cast_df = heart_model_input_df.astype(cast_dict).copy()\n",
    "\n",
    "# Now, do the recode\n",
    "# Sex and flouroscopy have different values and are handled separately\n",
    "\n",
    "heart_model_cast_df.replace({'sex': {'0': 'Male', '1': 'Female'}}, inplace = True)\n",
    "heart_model_cast_df.replace({'flouroscopy': {'0': 'Zero', '1': 'Nonzero'}}, inplace = True)\n",
    "\n",
    "recode_list = ['chest_pain', 'angina', 'ST_slope', 'heart_defect', 'heart_disease']\n",
    "recode_dict = {k: {'0': 'No', '1': 'Yes'} for k in recode_list}\n",
    "heart_model_cast_df.replace(recode_dict, inplace=True)"
   ]
  },
  {
   "cell_type": "code",
   "execution_count": null,
   "metadata": {},
   "outputs": [],
   "source": [
    "# Code to export the coefficient dataframe after making it easier to read.\n",
    "\n",
    "# Load the full coefficient dataframe\n",
    "\n",
    "coef_df_all = pd.read_csv('../Data/coefficient_df.csv')\n",
    "coef_df_all.set_index('coef', inplace = True)"
   ]
  },
  {
   "cell_type": "code",
   "execution_count": null,
   "metadata": {},
   "outputs": [],
   "source": [
    "# Generate the df containing only the reduced model to export\n",
    "\n",
    "df = coef_df_all.copy()\n",
    "\n",
    "# Drop uneccesary columns and rows\n",
    "\n",
    "df.drop(['clf_all', 'clf_trimmed'], axis='columns', inplace=True)\n",
    "df.drop(['rest_bp', 'chol', 'blood_sugar', 'restecg'], axis='index', inplace=True)\n",
    "\n",
    "# Rename column and index so they are easier to understand\n",
    "\n",
    "df.rename_axis(index= {'coef': 'feature'}, axis='index', inplace=True)\n",
    "df.rename(columns = {'clf_reduced': 'value'}, inplace=True)\n",
    "\n",
    "# Round feature column to three decimal places\n",
    "\n",
    "# df_formatted = df.round({'value': 2})\n",
    "# df_formatted\n",
    "pd.set_option('precision', 2)\n",
    "pd.options.display.float_format = '{:20,.2f}'.format\n",
    "dfi.export(df, '../Images/coefficient_figure.png')"
   ]
  }
 ],
 "metadata": {
  "kernelspec": {
   "display_name": "heart-disease-deploy",
   "language": "python",
   "name": "heart-disease-deploy"
  },
  "language_info": {
   "codemirror_mode": {
    "name": "ipython",
    "version": 3
   },
   "file_extension": ".py",
   "mimetype": "text/x-python",
   "name": "python",
   "nbconvert_exporter": "python",
   "pygments_lexer": "ipython3",
   "version": "3.8.10"
  }
 },
 "nbformat": 4,
 "nbformat_minor": 4
}
