{
 "cells": [
  {
   "cell_type": "markdown",
   "metadata": {},
   "source": [
    "## Preliminaries\n",
    "\n",
    "Here, we import the required modules (including the stats_function module containing our user-defined functions), configure the output window, and load the data."
   ]
  },
  {
   "cell_type": "code",
   "execution_count": 1,
   "metadata": {},
   "outputs": [],
   "source": [
    "import csv\n",
    "import collections          # For OrderedDict\n",
    "import numpy as np\n",
    "import pandas as pd\n",
    "import matplotlib.pyplot as plt\n",
    "import seaborn as sns\n",
    "\n",
    "from scipy.stats import chi2_contingency\n",
    "from sklearn.linear_model import LogisticRegression\n",
    "from sklearn.model_selection import train_test_split, cross_val_score, cross_validate, GridSearchCV, KFold\n",
    "from sklearn.metrics import confusion_matrix, classification_report\n",
    "from sklearn.preprocessing import StandardScaler"
   ]
  },
  {
   "cell_type": "code",
   "execution_count": 2,
   "metadata": {},
   "outputs": [],
   "source": [
    "# set the output precision to 2 decimal places for pandas and numpy\n",
    "# and the line width for numpy to 300 chars.\n",
    "\n",
    "pd.set_option('precision', 2)\n",
    "pd.options.display.float_format = '{:20,.2f}'.format\n",
    "np.set_printoptions(linewidth = 300, suppress=True, formatter={'float': lambda x: \"{0:10.2f}\".format(x)})"
   ]
  },
  {
   "cell_type": "code",
   "execution_count": 3,
   "metadata": {},
   "outputs": [],
   "source": [
    "# Load the heart disease data from a csv file into a pandas Data Frame\n",
    "\n",
    "path = \"C:/Users/dvschwab/Documents/Programming/Python3/Data Sets/heart.csv\"\n",
    "\n",
    "df_heart = pd.read_csv(path)"
   ]
  },
  {
   "cell_type": "markdown",
   "metadata": {},
   "source": [
    "## User-Defined Functions\n",
    "\n",
    "A simple function for identifying outliers using the IQR."
   ]
  },
  {
   "cell_type": "code",
   "execution_count": 4,
   "metadata": {},
   "outputs": [],
   "source": [
    "# simple function to return an outlier range as some multiple of the IQR\n",
    "# both 1.5 and 3 are common choices\n",
    "\n",
    "def iqr_outliers(values, multiplier = 1.5):\n",
    "    \"\"\"Return a two-element list of low and high outlier cutoffs for the array-like parameter values.\n",
    "       Both values are calculated as a multiple of the median value +/- the interquartile range (IQR),\n",
    "       which is not dependent on the distribution having a certain form.\n",
    "       \n",
    "       Parameters:\n",
    "           values: an array-like object containing two or more elements and all elements numeric\n",
    "           multiplier: any positive number, typically between 1.5 and 3\"\"\"\n",
    "    \n",
    "    # check if values is a single-dimensional object (e.g. array, Series, etc.)\n",
    "    # check if multiplier is positive\n",
    "    \n",
    "    assert np.ndim(values) == 1, \"parameter *values* has dimension other than 1\"\n",
    "    assert multiplier > 0, \"parameter *multiplier should not be zero or negative\"\n",
    "        \n",
    "    try:\n",
    "        median_value = values.median()\n",
    "        iqr = (values.quantile(.75) - values.quantile(.25))\n",
    "        assert iqr > 0, \"IQR should not be negative\"\n",
    "        \n",
    "        outlier_low = median_value - (multiplier * iqr)\n",
    "        outlier_high = median_value + (multiplier * iqr)\n",
    "        \n",
    "        assert (outlier_low <= median_value <= outlier_high), \"one of outlier_low, median_value, or outlier_high is out of range\"\n",
    "        \n",
    "        return [outlier_low, outlier_high]\n",
    "    \n",
    "    except TypeError as err:\n",
    "        print(\"TypeError\")\n",
    "    except AttributeError as err:\n",
    "        print(\"AttributeError: {0}\".format(err))"
   ]
  },
  {
   "cell_type": "markdown",
   "metadata": {},
   "source": [
    "## Data Description\n",
    "\n",
    "This data set has features that may predict heart disease. The features are some basic demographics (e.g. age, sex) and several medical data points, such as resting blood pressure and cholesteral. The target feature (named *target*) is whether the patient presents with heart disease: note that **0=disease** and **1=no disease**, contrary to what you might think (however, this is recoded below to the standard values).\n",
    "\n",
    "The demographic features are self-explanatory (note that for sex, 1= male). Here are descriptions of the medical data points. This is taken from the guide provided at https://www.kaggle.com/ronitf/heart-disease-uci/discussion/105877, accessed Jan. 1, 2021.\n",
    "\n",
    "### Dropped Rows\n",
    "\n",
    "According to that URL, rows containing *ca = 4* or *thal = 0* are data errors and should have those values set to NaN. Instead, we will just drop them. The following rows will be excluded:\n",
    "\n",
    "* 48, 92, 158, 163, 164, 251, 281\n",
    "\n",
    "### Description of Medical Data Points\n",
    "\n",
    "These are the categorical data points and their descriptions\n",
    "\n",
    "* cp: chest pain type:\n",
    "    * 0: asymptomatic (no pain)\n",
    "    * 1: atypical angina\n",
    "    * 2: non-anginal pain\n",
    "    * 3: typical angina\n",
    "* fbs: fasting blood sugar > 120 mg/dl (True or False)\n",
    "    * 0: False\n",
    "    * 1: True\n",
    "* restecg: resting electrocardiograph results\n",
    "    * 0: showing probable or definite left ventricular hypertrophy\n",
    "    * 1: normal\n",
    "    * 2: having ST-T wave abnormality\n",
    "* exang: exercise induced angina (True or False)\n",
    "    * 0: False\n",
    "    * 1: True\n",
    "* slope: the slope of the peak exercise ST segment\n",
    "    * 0: downsloping\n",
    "    * 1: flat\n",
    "    * 2: upsloping\n",
    "* thal: this refers to a certain type of heart defect; \"thal\" stands for \"thalium\", which is the radioactive tracer used to detect this type of defect.\n",
    "    * 1: fixed defect\n",
    "    * 2: normal\n",
    "    * 3: reversable defect\n",
    "\n",
    "These are the continuous data points and their descriptions:\n",
    "\n",
    "* trestbps: resting blood pressure\n",
    "* chol: serum cholestoral in mg/dl\n",
    "* thalach: maximum heart rate achieved (not sure why they chose this name)\n",
    "* oldpeak: ST depression induced by exercise relative to rest\n",
    "* ca: number of major vessels colored by flouroscopy (0 - 4)\n",
    "\n",
    "### Renamed Columns\n",
    "\n",
    "Since a few of the columns have names that aren't very descriptive, we will rename them. Here are the mappings:\n",
    "\n",
    "* cp -> chest_pain\n",
    "* trestbps -> rest_bp\n",
    "* fbs -> blood_sugar\n",
    "* thalach -> max_heart_rate\n",
    "* exang -> angina\n",
    "* slope -> ST_slope\n",
    "* ca -> flouroscopy\n",
    "* thal -> heart_defect\n",
    "* target -> heart_disease\n",
    "\n",
    "### Recoded Data Points\n",
    "\n",
    "Since the coding on a few of the medical data points is inconsistent, we'll recode them so that in all cases 0 indicates either normal behavior or the absence of disease. To make the analysis more straightforward, we will also combine the relatively few data points in categories 2 and 3 into category 1.\n",
    "\n",
    "* restecg -> {0: 1, 1: 0, 2: 1}\n",
    "* heart-defect -> {2: 0, 1: 1, 3: 1}\n",
    "* ST_slope -> {0: 1, 1: 0, 2: 1}\n",
    "* chest_pain -> {0: 0, 1: 1, 2: 1, 3: 1}\n",
    "* flouroscopy -> {0: 1, 1: 1, 2: 1, 3: 1}\n",
    "* heart_disease -> {0: 1, 1: 0}\n",
    "\n",
    "This updates the decoded values given above for the *restecg*, *heart_disease*, and other variables. Most importantly, *heart_disease*, which is the predicted target, is now coded **0=no disease** and **1=disease**, the opposite of the raw data set."
   ]
  },
  {
   "cell_type": "markdown",
   "metadata": {},
   "source": [
    "### Excluding Rows with Invalid Observations"
   ]
  },
  {
   "cell_type": "code",
   "execution_count": 5,
   "metadata": {},
   "outputs": [
    {
     "data": {
      "text/html": [
       "<div>\n",
       "<style scoped>\n",
       "    .dataframe tbody tr th:only-of-type {\n",
       "        vertical-align: middle;\n",
       "    }\n",
       "\n",
       "    .dataframe tbody tr th {\n",
       "        vertical-align: top;\n",
       "    }\n",
       "\n",
       "    .dataframe thead th {\n",
       "        text-align: right;\n",
       "    }\n",
       "</style>\n",
       "<table border=\"1\" class=\"dataframe\">\n",
       "  <thead>\n",
       "    <tr style=\"text-align: right;\">\n",
       "      <th></th>\n",
       "      <th>age</th>\n",
       "      <th>sex</th>\n",
       "      <th>cp</th>\n",
       "      <th>trestbps</th>\n",
       "      <th>chol</th>\n",
       "      <th>fbs</th>\n",
       "      <th>restecg</th>\n",
       "      <th>thalach</th>\n",
       "      <th>exang</th>\n",
       "      <th>oldpeak</th>\n",
       "      <th>slope</th>\n",
       "      <th>ca</th>\n",
       "      <th>thal</th>\n",
       "      <th>target</th>\n",
       "    </tr>\n",
       "  </thead>\n",
       "  <tbody>\n",
       "    <tr>\n",
       "      <th>92</th>\n",
       "      <td>52</td>\n",
       "      <td>1</td>\n",
       "      <td>2</td>\n",
       "      <td>138</td>\n",
       "      <td>223</td>\n",
       "      <td>0</td>\n",
       "      <td>1</td>\n",
       "      <td>169</td>\n",
       "      <td>0</td>\n",
       "      <td>0.00</td>\n",
       "      <td>2</td>\n",
       "      <td>4</td>\n",
       "      <td>2</td>\n",
       "      <td>1</td>\n",
       "    </tr>\n",
       "    <tr>\n",
       "      <th>158</th>\n",
       "      <td>58</td>\n",
       "      <td>1</td>\n",
       "      <td>1</td>\n",
       "      <td>125</td>\n",
       "      <td>220</td>\n",
       "      <td>0</td>\n",
       "      <td>1</td>\n",
       "      <td>144</td>\n",
       "      <td>0</td>\n",
       "      <td>0.40</td>\n",
       "      <td>1</td>\n",
       "      <td>4</td>\n",
       "      <td>3</td>\n",
       "      <td>1</td>\n",
       "    </tr>\n",
       "    <tr>\n",
       "      <th>163</th>\n",
       "      <td>38</td>\n",
       "      <td>1</td>\n",
       "      <td>2</td>\n",
       "      <td>138</td>\n",
       "      <td>175</td>\n",
       "      <td>0</td>\n",
       "      <td>1</td>\n",
       "      <td>173</td>\n",
       "      <td>0</td>\n",
       "      <td>0.00</td>\n",
       "      <td>2</td>\n",
       "      <td>4</td>\n",
       "      <td>2</td>\n",
       "      <td>1</td>\n",
       "    </tr>\n",
       "    <tr>\n",
       "      <th>164</th>\n",
       "      <td>38</td>\n",
       "      <td>1</td>\n",
       "      <td>2</td>\n",
       "      <td>138</td>\n",
       "      <td>175</td>\n",
       "      <td>0</td>\n",
       "      <td>1</td>\n",
       "      <td>173</td>\n",
       "      <td>0</td>\n",
       "      <td>0.00</td>\n",
       "      <td>2</td>\n",
       "      <td>4</td>\n",
       "      <td>2</td>\n",
       "      <td>1</td>\n",
       "    </tr>\n",
       "    <tr>\n",
       "      <th>251</th>\n",
       "      <td>43</td>\n",
       "      <td>1</td>\n",
       "      <td>0</td>\n",
       "      <td>132</td>\n",
       "      <td>247</td>\n",
       "      <td>1</td>\n",
       "      <td>0</td>\n",
       "      <td>143</td>\n",
       "      <td>1</td>\n",
       "      <td>0.10</td>\n",
       "      <td>1</td>\n",
       "      <td>4</td>\n",
       "      <td>3</td>\n",
       "      <td>0</td>\n",
       "    </tr>\n",
       "  </tbody>\n",
       "</table>\n",
       "</div>"
      ],
      "text/plain": [
       "     age  sex  cp  trestbps  chol  fbs  restecg  thalach  exang  \\\n",
       "92    52    1   2       138   223    0        1      169      0   \n",
       "158   58    1   1       125   220    0        1      144      0   \n",
       "163   38    1   2       138   175    0        1      173      0   \n",
       "164   38    1   2       138   175    0        1      173      0   \n",
       "251   43    1   0       132   247    1        0      143      1   \n",
       "\n",
       "                 oldpeak  slope  ca  thal  target  \n",
       "92                  0.00      2   4     2       1  \n",
       "158                 0.40      1   4     3       1  \n",
       "163                 0.00      2   4     2       1  \n",
       "164                 0.00      2   4     2       1  \n",
       "251                 0.10      1   4     3       0  "
      ]
     },
     "execution_count": 5,
     "metadata": {},
     "output_type": "execute_result"
    }
   ],
   "source": [
    "# Rows to exclude because ca = 4\n",
    "\n",
    "df_heart[(df_heart.ca == 4)]"
   ]
  },
  {
   "cell_type": "code",
   "execution_count": 6,
   "metadata": {},
   "outputs": [
    {
     "data": {
      "text/html": [
       "<div>\n",
       "<style scoped>\n",
       "    .dataframe tbody tr th:only-of-type {\n",
       "        vertical-align: middle;\n",
       "    }\n",
       "\n",
       "    .dataframe tbody tr th {\n",
       "        vertical-align: top;\n",
       "    }\n",
       "\n",
       "    .dataframe thead th {\n",
       "        text-align: right;\n",
       "    }\n",
       "</style>\n",
       "<table border=\"1\" class=\"dataframe\">\n",
       "  <thead>\n",
       "    <tr style=\"text-align: right;\">\n",
       "      <th></th>\n",
       "      <th>age</th>\n",
       "      <th>sex</th>\n",
       "      <th>cp</th>\n",
       "      <th>trestbps</th>\n",
       "      <th>chol</th>\n",
       "      <th>fbs</th>\n",
       "      <th>restecg</th>\n",
       "      <th>thalach</th>\n",
       "      <th>exang</th>\n",
       "      <th>oldpeak</th>\n",
       "      <th>slope</th>\n",
       "      <th>ca</th>\n",
       "      <th>thal</th>\n",
       "      <th>target</th>\n",
       "    </tr>\n",
       "  </thead>\n",
       "  <tbody>\n",
       "    <tr>\n",
       "      <th>48</th>\n",
       "      <td>53</td>\n",
       "      <td>0</td>\n",
       "      <td>2</td>\n",
       "      <td>128</td>\n",
       "      <td>216</td>\n",
       "      <td>0</td>\n",
       "      <td>0</td>\n",
       "      <td>115</td>\n",
       "      <td>0</td>\n",
       "      <td>0.00</td>\n",
       "      <td>2</td>\n",
       "      <td>0</td>\n",
       "      <td>0</td>\n",
       "      <td>1</td>\n",
       "    </tr>\n",
       "    <tr>\n",
       "      <th>281</th>\n",
       "      <td>52</td>\n",
       "      <td>1</td>\n",
       "      <td>0</td>\n",
       "      <td>128</td>\n",
       "      <td>204</td>\n",
       "      <td>1</td>\n",
       "      <td>1</td>\n",
       "      <td>156</td>\n",
       "      <td>1</td>\n",
       "      <td>1.00</td>\n",
       "      <td>1</td>\n",
       "      <td>0</td>\n",
       "      <td>0</td>\n",
       "      <td>0</td>\n",
       "    </tr>\n",
       "  </tbody>\n",
       "</table>\n",
       "</div>"
      ],
      "text/plain": [
       "     age  sex  cp  trestbps  chol  fbs  restecg  thalach  exang  \\\n",
       "48    53    0   2       128   216    0        0      115      0   \n",
       "281   52    1   0       128   204    1        1      156      1   \n",
       "\n",
       "                 oldpeak  slope  ca  thal  target  \n",
       "48                  0.00      2   0     0       1  \n",
       "281                 1.00      1   0     0       0  "
      ]
     },
     "execution_count": 6,
     "metadata": {},
     "output_type": "execute_result"
    }
   ],
   "source": [
    "# Rows to exclude because thal = 0\n",
    "\n",
    "df_heart[(df_heart.thal == 0)]"
   ]
  },
  {
   "cell_type": "code",
   "execution_count": 7,
   "metadata": {},
   "outputs": [
    {
     "data": {
      "text/html": [
       "<div>\n",
       "<style scoped>\n",
       "    .dataframe tbody tr th:only-of-type {\n",
       "        vertical-align: middle;\n",
       "    }\n",
       "\n",
       "    .dataframe tbody tr th {\n",
       "        vertical-align: top;\n",
       "    }\n",
       "\n",
       "    .dataframe thead th {\n",
       "        text-align: right;\n",
       "    }\n",
       "</style>\n",
       "<table border=\"1\" class=\"dataframe\">\n",
       "  <thead>\n",
       "    <tr style=\"text-align: right;\">\n",
       "      <th></th>\n",
       "      <th>age</th>\n",
       "      <th>sex</th>\n",
       "      <th>cp</th>\n",
       "      <th>trestbps</th>\n",
       "      <th>chol</th>\n",
       "      <th>fbs</th>\n",
       "      <th>restecg</th>\n",
       "      <th>thalach</th>\n",
       "      <th>exang</th>\n",
       "      <th>oldpeak</th>\n",
       "      <th>slope</th>\n",
       "      <th>ca</th>\n",
       "      <th>thal</th>\n",
       "      <th>target</th>\n",
       "    </tr>\n",
       "  </thead>\n",
       "  <tbody>\n",
       "    <tr>\n",
       "      <th>48</th>\n",
       "      <td>53</td>\n",
       "      <td>0</td>\n",
       "      <td>2</td>\n",
       "      <td>128</td>\n",
       "      <td>216</td>\n",
       "      <td>0</td>\n",
       "      <td>0</td>\n",
       "      <td>115</td>\n",
       "      <td>0</td>\n",
       "      <td>0.00</td>\n",
       "      <td>2</td>\n",
       "      <td>0</td>\n",
       "      <td>0</td>\n",
       "      <td>1</td>\n",
       "    </tr>\n",
       "    <tr>\n",
       "      <th>92</th>\n",
       "      <td>52</td>\n",
       "      <td>1</td>\n",
       "      <td>2</td>\n",
       "      <td>138</td>\n",
       "      <td>223</td>\n",
       "      <td>0</td>\n",
       "      <td>1</td>\n",
       "      <td>169</td>\n",
       "      <td>0</td>\n",
       "      <td>0.00</td>\n",
       "      <td>2</td>\n",
       "      <td>4</td>\n",
       "      <td>2</td>\n",
       "      <td>1</td>\n",
       "    </tr>\n",
       "    <tr>\n",
       "      <th>158</th>\n",
       "      <td>58</td>\n",
       "      <td>1</td>\n",
       "      <td>1</td>\n",
       "      <td>125</td>\n",
       "      <td>220</td>\n",
       "      <td>0</td>\n",
       "      <td>1</td>\n",
       "      <td>144</td>\n",
       "      <td>0</td>\n",
       "      <td>0.40</td>\n",
       "      <td>1</td>\n",
       "      <td>4</td>\n",
       "      <td>3</td>\n",
       "      <td>1</td>\n",
       "    </tr>\n",
       "    <tr>\n",
       "      <th>163</th>\n",
       "      <td>38</td>\n",
       "      <td>1</td>\n",
       "      <td>2</td>\n",
       "      <td>138</td>\n",
       "      <td>175</td>\n",
       "      <td>0</td>\n",
       "      <td>1</td>\n",
       "      <td>173</td>\n",
       "      <td>0</td>\n",
       "      <td>0.00</td>\n",
       "      <td>2</td>\n",
       "      <td>4</td>\n",
       "      <td>2</td>\n",
       "      <td>1</td>\n",
       "    </tr>\n",
       "    <tr>\n",
       "      <th>164</th>\n",
       "      <td>38</td>\n",
       "      <td>1</td>\n",
       "      <td>2</td>\n",
       "      <td>138</td>\n",
       "      <td>175</td>\n",
       "      <td>0</td>\n",
       "      <td>1</td>\n",
       "      <td>173</td>\n",
       "      <td>0</td>\n",
       "      <td>0.00</td>\n",
       "      <td>2</td>\n",
       "      <td>4</td>\n",
       "      <td>2</td>\n",
       "      <td>1</td>\n",
       "    </tr>\n",
       "    <tr>\n",
       "      <th>251</th>\n",
       "      <td>43</td>\n",
       "      <td>1</td>\n",
       "      <td>0</td>\n",
       "      <td>132</td>\n",
       "      <td>247</td>\n",
       "      <td>1</td>\n",
       "      <td>0</td>\n",
       "      <td>143</td>\n",
       "      <td>1</td>\n",
       "      <td>0.10</td>\n",
       "      <td>1</td>\n",
       "      <td>4</td>\n",
       "      <td>3</td>\n",
       "      <td>0</td>\n",
       "    </tr>\n",
       "    <tr>\n",
       "      <th>281</th>\n",
       "      <td>52</td>\n",
       "      <td>1</td>\n",
       "      <td>0</td>\n",
       "      <td>128</td>\n",
       "      <td>204</td>\n",
       "      <td>1</td>\n",
       "      <td>1</td>\n",
       "      <td>156</td>\n",
       "      <td>1</td>\n",
       "      <td>1.00</td>\n",
       "      <td>1</td>\n",
       "      <td>0</td>\n",
       "      <td>0</td>\n",
       "      <td>0</td>\n",
       "    </tr>\n",
       "  </tbody>\n",
       "</table>\n",
       "</div>"
      ],
      "text/plain": [
       "     age  sex  cp  trestbps  chol  fbs  restecg  thalach  exang  \\\n",
       "48    53    0   2       128   216    0        0      115      0   \n",
       "92    52    1   2       138   223    0        1      169      0   \n",
       "158   58    1   1       125   220    0        1      144      0   \n",
       "163   38    1   2       138   175    0        1      173      0   \n",
       "164   38    1   2       138   175    0        1      173      0   \n",
       "251   43    1   0       132   247    1        0      143      1   \n",
       "281   52    1   0       128   204    1        1      156      1   \n",
       "\n",
       "                 oldpeak  slope  ca  thal  target  \n",
       "48                  0.00      2   0     0       1  \n",
       "92                  0.00      2   4     2       1  \n",
       "158                 0.40      1   4     3       1  \n",
       "163                 0.00      2   4     2       1  \n",
       "164                 0.00      2   4     2       1  \n",
       "251                 0.10      1   4     3       0  \n",
       "281                 1.00      1   0     0       0  "
      ]
     },
     "execution_count": 7,
     "metadata": {},
     "output_type": "execute_result"
    }
   ],
   "source": [
    "# This displays the rows to be dropped and the next cell drops them.\n",
    "\n",
    "rows_to_drop = [48, 92, 158, 163, 164, 251, 281]\n",
    "\n",
    "df_heart.iloc[rows_to_drop]\n"
   ]
  },
  {
   "cell_type": "code",
   "execution_count": 8,
   "metadata": {},
   "outputs": [],
   "source": [
    "df_heart_working = df_heart[~df_heart.index.isin(rows_to_drop)].copy()"
   ]
  },
  {
   "cell_type": "markdown",
   "metadata": {},
   "source": [
    "### Renaming Columns"
   ]
  },
  {
   "cell_type": "code",
   "execution_count": 9,
   "metadata": {},
   "outputs": [],
   "source": [
    "# This renames the columns\n",
    "\n",
    "column_dict = {\n",
    "    'cp': 'chest_pain',\n",
    "    'trestbps': 'rest_bp',\n",
    "    'fbs': 'blood_sugar',\n",
    "    'thalach': 'max_heart_rate',\n",
    "    'exang': 'angina',\n",
    "    'slope': 'ST_slope',\n",
    "    'ca': 'flouroscopy',\n",
    "    'thal': 'heart_defect',\n",
    "    'target': 'heart_disease'\n",
    "}\n",
    "\n",
    "df_heart_working = df_heart_working.rename(columns = column_dict)"
   ]
  },
  {
   "cell_type": "markdown",
   "metadata": {},
   "source": [
    "### Recoding Variables"
   ]
  },
  {
   "cell_type": "code",
   "execution_count": 10,
   "metadata": {},
   "outputs": [],
   "source": [
    "# This recodes the restecg, heart_defect, and heart_disease data points\n",
    "\n",
    "recoding_dict = {\n",
    "    'restecg': {0: 1, 1: 0, 2: 1},\n",
    "    'heart_defect': {2: 0, 1: 1, 3: 1},\n",
    "    'heart_disease': {0: 1, 1: 0},\n",
    "    'ST_slope': {0: 1, 1: 0, 2: 1},\n",
    "    'chest_pain': {0: 0, 1: 1, 2: 1, 3: 1},\n",
    "    'flouroscopy': {0: 0, 1: 1, 2: 1, 3: 1},\n",
    "}\n",
    "\n",
    "df_heart_working.replace(recoding_dict, inplace=True)"
   ]
  },
  {
   "cell_type": "code",
   "execution_count": 11,
   "metadata": {},
   "outputs": [],
   "source": [
    "# reset the index since rows have been removed\n",
    "\n",
    "df_heart_working.reset_index(drop=True, inplace=True)"
   ]
  },
  {
   "cell_type": "markdown",
   "metadata": {},
   "source": [
    "### Updated Data Set\n",
    "\n",
    "Here is the updated data set with the selected rows excluded, renamed columns, and all categorical variables recoded so that 0 always signifies either a normal result or the lack of a disease marker. The index has also been reset to be contiguous after dropping the rows.\n",
    "\n",
    "There are 14 variables and 296 cases. Of these, the *age* and *sex* variables provide basic demographic information, while the remaining variables encode different medical data points. All variables except for *oldpeak* are stored as 64-bit numpy integers, while *oldpeak* is stored as a float."
   ]
  },
  {
   "cell_type": "code",
   "execution_count": 12,
   "metadata": {},
   "outputs": [
    {
     "data": {
      "text/html": [
       "<div>\n",
       "<style scoped>\n",
       "    .dataframe tbody tr th:only-of-type {\n",
       "        vertical-align: middle;\n",
       "    }\n",
       "\n",
       "    .dataframe tbody tr th {\n",
       "        vertical-align: top;\n",
       "    }\n",
       "\n",
       "    .dataframe thead th {\n",
       "        text-align: right;\n",
       "    }\n",
       "</style>\n",
       "<table border=\"1\" class=\"dataframe\">\n",
       "  <thead>\n",
       "    <tr style=\"text-align: right;\">\n",
       "      <th></th>\n",
       "      <th>age</th>\n",
       "      <th>sex</th>\n",
       "      <th>chest_pain</th>\n",
       "      <th>rest_bp</th>\n",
       "      <th>chol</th>\n",
       "      <th>blood_sugar</th>\n",
       "      <th>restecg</th>\n",
       "      <th>max_heart_rate</th>\n",
       "      <th>angina</th>\n",
       "      <th>oldpeak</th>\n",
       "      <th>ST_slope</th>\n",
       "      <th>flouroscopy</th>\n",
       "      <th>heart_defect</th>\n",
       "      <th>heart_disease</th>\n",
       "    </tr>\n",
       "  </thead>\n",
       "  <tbody>\n",
       "    <tr>\n",
       "      <th>0</th>\n",
       "      <td>63</td>\n",
       "      <td>1</td>\n",
       "      <td>1</td>\n",
       "      <td>145</td>\n",
       "      <td>233</td>\n",
       "      <td>1</td>\n",
       "      <td>1</td>\n",
       "      <td>150</td>\n",
       "      <td>0</td>\n",
       "      <td>2.30</td>\n",
       "      <td>1</td>\n",
       "      <td>0</td>\n",
       "      <td>1</td>\n",
       "      <td>0</td>\n",
       "    </tr>\n",
       "    <tr>\n",
       "      <th>1</th>\n",
       "      <td>37</td>\n",
       "      <td>1</td>\n",
       "      <td>1</td>\n",
       "      <td>130</td>\n",
       "      <td>250</td>\n",
       "      <td>0</td>\n",
       "      <td>0</td>\n",
       "      <td>187</td>\n",
       "      <td>0</td>\n",
       "      <td>3.50</td>\n",
       "      <td>1</td>\n",
       "      <td>0</td>\n",
       "      <td>0</td>\n",
       "      <td>0</td>\n",
       "    </tr>\n",
       "    <tr>\n",
       "      <th>2</th>\n",
       "      <td>41</td>\n",
       "      <td>0</td>\n",
       "      <td>1</td>\n",
       "      <td>130</td>\n",
       "      <td>204</td>\n",
       "      <td>0</td>\n",
       "      <td>1</td>\n",
       "      <td>172</td>\n",
       "      <td>0</td>\n",
       "      <td>1.40</td>\n",
       "      <td>1</td>\n",
       "      <td>0</td>\n",
       "      <td>0</td>\n",
       "      <td>0</td>\n",
       "    </tr>\n",
       "    <tr>\n",
       "      <th>3</th>\n",
       "      <td>56</td>\n",
       "      <td>1</td>\n",
       "      <td>1</td>\n",
       "      <td>120</td>\n",
       "      <td>236</td>\n",
       "      <td>0</td>\n",
       "      <td>0</td>\n",
       "      <td>178</td>\n",
       "      <td>0</td>\n",
       "      <td>0.80</td>\n",
       "      <td>1</td>\n",
       "      <td>0</td>\n",
       "      <td>0</td>\n",
       "      <td>0</td>\n",
       "    </tr>\n",
       "    <tr>\n",
       "      <th>4</th>\n",
       "      <td>57</td>\n",
       "      <td>0</td>\n",
       "      <td>0</td>\n",
       "      <td>120</td>\n",
       "      <td>354</td>\n",
       "      <td>0</td>\n",
       "      <td>0</td>\n",
       "      <td>163</td>\n",
       "      <td>1</td>\n",
       "      <td>0.60</td>\n",
       "      <td>1</td>\n",
       "      <td>0</td>\n",
       "      <td>0</td>\n",
       "      <td>0</td>\n",
       "    </tr>\n",
       "  </tbody>\n",
       "</table>\n",
       "</div>"
      ],
      "text/plain": [
       "   age  sex  chest_pain  rest_bp  chol  blood_sugar  restecg  max_heart_rate  \\\n",
       "0   63    1           1      145   233            1        1             150   \n",
       "1   37    1           1      130   250            0        0             187   \n",
       "2   41    0           1      130   204            0        1             172   \n",
       "3   56    1           1      120   236            0        0             178   \n",
       "4   57    0           0      120   354            0        0             163   \n",
       "\n",
       "   angina              oldpeak  ST_slope  flouroscopy  heart_defect  \\\n",
       "0       0                 2.30         1            0             1   \n",
       "1       0                 3.50         1            0             0   \n",
       "2       0                 1.40         1            0             0   \n",
       "3       0                 0.80         1            0             0   \n",
       "4       1                 0.60         1            0             0   \n",
       "\n",
       "   heart_disease  \n",
       "0              0  \n",
       "1              0  \n",
       "2              0  \n",
       "3              0  \n",
       "4              0  "
      ]
     },
     "execution_count": 12,
     "metadata": {},
     "output_type": "execute_result"
    }
   ],
   "source": [
    "df_heart_working.head()"
   ]
  },
  {
   "cell_type": "code",
   "execution_count": 13,
   "metadata": {},
   "outputs": [
    {
     "name": "stdout",
     "output_type": "stream",
     "text": [
      "<class 'pandas.core.frame.DataFrame'>\n",
      "RangeIndex: 296 entries, 0 to 295\n",
      "Data columns (total 14 columns):\n",
      " #   Column          Non-Null Count  Dtype  \n",
      "---  ------          --------------  -----  \n",
      " 0   age             296 non-null    int64  \n",
      " 1   sex             296 non-null    int64  \n",
      " 2   chest_pain      296 non-null    int64  \n",
      " 3   rest_bp         296 non-null    int64  \n",
      " 4   chol            296 non-null    int64  \n",
      " 5   blood_sugar     296 non-null    int64  \n",
      " 6   restecg         296 non-null    int64  \n",
      " 7   max_heart_rate  296 non-null    int64  \n",
      " 8   angina          296 non-null    int64  \n",
      " 9   oldpeak         296 non-null    float64\n",
      " 10  ST_slope        296 non-null    int64  \n",
      " 11  flouroscopy     296 non-null    int64  \n",
      " 12  heart_defect    296 non-null    int64  \n",
      " 13  heart_disease   296 non-null    int64  \n",
      "dtypes: float64(1), int64(13)\n",
      "memory usage: 32.5 KB\n"
     ]
    }
   ],
   "source": [
    "# Here is our data set so far.\n",
    "# We have 296 cases, all encoded as numpy int64 except for oldpeak,\n",
    "# which is a float.\n",
    "\n",
    "df_heart_working.info()"
   ]
  },
  {
   "cell_type": "markdown",
   "metadata": {},
   "source": [
    "## Exploratory Data Analysis\n",
    "\n",
    "Having prepared the data, we now turn to its analysis. We start by reviewing descriptive statistics for each of the continuous variables, along with a pairwise-relationhip plot and correlation matrix. The goal is to find which variables have substantially different values when conditioned on the target variable, *heart_disease*. These variables are good predictor candidates. A secondary goal is to identify relationships between the continuous variables that may hinder the model by capturing similar information."
   ]
  },
  {
   "cell_type": "markdown",
   "metadata": {},
   "source": [
    "### Adding Scaled Variables\n",
    "\n",
    "It is often helpful to scale continuous variables so that they each represent a similar range of values. Here, we have used the *StandardScaler* from the *sklearn* package to rescale each variable to a Z-score with zero mean and unit variance. The scaled column name is the unscaled name with \"scaled\" appended, and all scaled values are numpy 64-bit floats."
   ]
  },
  {
   "cell_type": "code",
   "execution_count": 14,
   "metadata": {},
   "outputs": [],
   "source": [
    "# scaled columns are (e.g) age -> age_scaled, etc.\n",
    "cols = ['age', 'rest_bp', 'chol', 'max_heart_rate', 'oldpeak']\n",
    "scaled_cols = [x + \"_scaled\" for x in cols]\n",
    "\n",
    "scaler = StandardScaler()\n",
    "\n",
    "# get the scaled values and generate a data frame, then\n",
    "# join it to the df_heart_working data frame.\n",
    "\n",
    "scaled_values = scaler.fit_transform(df_heart_working[cols])\n",
    "scaled_df = pd.DataFrame(scaled_values, columns=scaled_cols, dtype=np.float64)\n",
    "df_heart_scaled = df_heart_working.join(scaled_df).copy()"
   ]
  },
  {
   "cell_type": "code",
   "execution_count": 15,
   "metadata": {},
   "outputs": [
    {
     "data": {
      "text/html": [
       "<div>\n",
       "<style scoped>\n",
       "    .dataframe tbody tr th:only-of-type {\n",
       "        vertical-align: middle;\n",
       "    }\n",
       "\n",
       "    .dataframe tbody tr th {\n",
       "        vertical-align: top;\n",
       "    }\n",
       "\n",
       "    .dataframe thead th {\n",
       "        text-align: right;\n",
       "    }\n",
       "</style>\n",
       "<table border=\"1\" class=\"dataframe\">\n",
       "  <thead>\n",
       "    <tr style=\"text-align: right;\">\n",
       "      <th></th>\n",
       "      <th>age</th>\n",
       "      <th>rest_bp</th>\n",
       "      <th>chol</th>\n",
       "      <th>max_heart_rate</th>\n",
       "      <th>oldpeak</th>\n",
       "      <th>age_scaled</th>\n",
       "      <th>rest_bp_scaled</th>\n",
       "      <th>chol_scaled</th>\n",
       "      <th>max_heart_rate_scaled</th>\n",
       "      <th>oldpeak_scaled</th>\n",
       "    </tr>\n",
       "  </thead>\n",
       "  <tbody>\n",
       "    <tr>\n",
       "      <th>0</th>\n",
       "      <td>63</td>\n",
       "      <td>145</td>\n",
       "      <td>233</td>\n",
       "      <td>150</td>\n",
       "      <td>2.30</td>\n",
       "      <td>0.94</td>\n",
       "      <td>0.76</td>\n",
       "      <td>-0.27</td>\n",
       "      <td>0.02</td>\n",
       "      <td>1.07</td>\n",
       "    </tr>\n",
       "    <tr>\n",
       "      <th>1</th>\n",
       "      <td>37</td>\n",
       "      <td>130</td>\n",
       "      <td>250</td>\n",
       "      <td>187</td>\n",
       "      <td>3.50</td>\n",
       "      <td>-1.94</td>\n",
       "      <td>-0.09</td>\n",
       "      <td>0.05</td>\n",
       "      <td>1.63</td>\n",
       "      <td>2.10</td>\n",
       "    </tr>\n",
       "    <tr>\n",
       "      <th>2</th>\n",
       "      <td>41</td>\n",
       "      <td>130</td>\n",
       "      <td>204</td>\n",
       "      <td>172</td>\n",
       "      <td>1.40</td>\n",
       "      <td>-1.50</td>\n",
       "      <td>-0.09</td>\n",
       "      <td>-0.83</td>\n",
       "      <td>0.98</td>\n",
       "      <td>0.29</td>\n",
       "    </tr>\n",
       "    <tr>\n",
       "      <th>3</th>\n",
       "      <td>56</td>\n",
       "      <td>120</td>\n",
       "      <td>236</td>\n",
       "      <td>178</td>\n",
       "      <td>0.80</td>\n",
       "      <td>0.16</td>\n",
       "      <td>-0.66</td>\n",
       "      <td>-0.21</td>\n",
       "      <td>1.24</td>\n",
       "      <td>-0.22</td>\n",
       "    </tr>\n",
       "    <tr>\n",
       "      <th>4</th>\n",
       "      <td>57</td>\n",
       "      <td>120</td>\n",
       "      <td>354</td>\n",
       "      <td>163</td>\n",
       "      <td>0.60</td>\n",
       "      <td>0.27</td>\n",
       "      <td>-0.66</td>\n",
       "      <td>2.06</td>\n",
       "      <td>0.59</td>\n",
       "      <td>-0.39</td>\n",
       "    </tr>\n",
       "  </tbody>\n",
       "</table>\n",
       "</div>"
      ],
      "text/plain": [
       "   age  rest_bp  chol  max_heart_rate              oldpeak  \\\n",
       "0   63      145   233             150                 2.30   \n",
       "1   37      130   250             187                 3.50   \n",
       "2   41      130   204             172                 1.40   \n",
       "3   56      120   236             178                 0.80   \n",
       "4   57      120   354             163                 0.60   \n",
       "\n",
       "            age_scaled       rest_bp_scaled          chol_scaled  \\\n",
       "0                 0.94                 0.76                -0.27   \n",
       "1                -1.94                -0.09                 0.05   \n",
       "2                -1.50                -0.09                -0.83   \n",
       "3                 0.16                -0.66                -0.21   \n",
       "4                 0.27                -0.66                 2.06   \n",
       "\n",
       "   max_heart_rate_scaled       oldpeak_scaled  \n",
       "0                   0.02                 1.07  \n",
       "1                   1.63                 2.10  \n",
       "2                   0.98                 0.29  \n",
       "3                   1.24                -0.22  \n",
       "4                   0.59                -0.39  "
      ]
     },
     "execution_count": 15,
     "metadata": {},
     "output_type": "execute_result"
    }
   ],
   "source": [
    "# Display the original and scaled columns\n",
    "\n",
    "df_heart_scaled[cols + scaled_cols].head()"
   ]
  },
  {
   "cell_type": "markdown",
   "metadata": {},
   "source": [
    "### Identifying Extreme Values\n",
    "\n",
    "Next, we will identify continous variables with extreme values. These values will be flagged with a variable named *outlier* so that they can be identified.\n",
    "\n",
    "The outlier bounds are returned by the user-defined *iqr_outliers()* function from the *stats_functions* module, which was imported at the start of the notebook. This method uses the median and interquartile range (IQR) to identify extreme values, which is robust to different types of distributions. The calculated values are:\n",
    "\n",
    "    lower bound = (median - (n * IQR))\n",
    "    upper bound = (median + (n * IQR))\n",
    "    \n",
    "The parameter n is typically 1.5 or 3; here, 1.5 is used."
   ]
  },
  {
   "cell_type": "code",
   "execution_count": 16,
   "metadata": {},
   "outputs": [
    {
     "data": {
      "text/html": [
       "<div>\n",
       "<style scoped>\n",
       "    .dataframe tbody tr th:only-of-type {\n",
       "        vertical-align: middle;\n",
       "    }\n",
       "\n",
       "    .dataframe tbody tr th {\n",
       "        vertical-align: top;\n",
       "    }\n",
       "\n",
       "    .dataframe thead th {\n",
       "        text-align: right;\n",
       "    }\n",
       "</style>\n",
       "<table border=\"1\" class=\"dataframe\">\n",
       "  <thead>\n",
       "    <tr style=\"text-align: right;\">\n",
       "      <th></th>\n",
       "      <th>lower_bound</th>\n",
       "      <th>upper_bound</th>\n",
       "    </tr>\n",
       "  </thead>\n",
       "  <tbody>\n",
       "    <tr>\n",
       "      <th>age</th>\n",
       "      <td>36.50</td>\n",
       "      <td>75.50</td>\n",
       "    </tr>\n",
       "    <tr>\n",
       "      <th>rest_bp</th>\n",
       "      <td>100.00</td>\n",
       "      <td>160.00</td>\n",
       "    </tr>\n",
       "    <tr>\n",
       "      <th>chol</th>\n",
       "      <td>146.12</td>\n",
       "      <td>338.88</td>\n",
       "    </tr>\n",
       "    <tr>\n",
       "      <th>max_heart_rate</th>\n",
       "      <td>103.00</td>\n",
       "      <td>202.00</td>\n",
       "    </tr>\n",
       "    <tr>\n",
       "      <th>oldpeak</th>\n",
       "      <td>-1.68</td>\n",
       "      <td>3.28</td>\n",
       "    </tr>\n",
       "  </tbody>\n",
       "</table>\n",
       "</div>"
      ],
      "text/plain": [
       "                        lower_bound          upper_bound\n",
       "age                           36.50                75.50\n",
       "rest_bp                      100.00               160.00\n",
       "chol                         146.12               338.88\n",
       "max_heart_rate               103.00               202.00\n",
       "oldpeak                       -1.68                 3.28"
      ]
     },
     "execution_count": 16,
     "metadata": {},
     "output_type": "execute_result"
    }
   ],
   "source": [
    "# Note: the outliers are themselves a list [low, high], so this is a nested list\n",
    "\n",
    "outliers = [iqr_outliers(df_heart_scaled[x], multiplier = 1.5) for x in cols]\n",
    "\n",
    "# Display the outlier bounds\n",
    "\n",
    "outliers_df = pd.DataFrame(outliers, index=cols, columns=['lower_bound', 'upper_bound'])\n",
    "outliers_df"
   ]
  },
  {
   "cell_type": "code",
   "execution_count": 17,
   "metadata": {},
   "outputs": [],
   "source": [
    "# Create a new variable, \"outliers\", and set it\n",
    "# to True if the row contains an outier or False otherwise.\n",
    "\n",
    "outlier_indices = []\n",
    "\n",
    "for i, column in enumerate(cols):\n",
    "     \n",
    "    low_bound, high_bound = outliers[i][0], outliers[i][1]\n",
    "    outlier_rows = df_heart_scaled[column] < (low_bound or df_heart_scaled[column] > high_bound)\n",
    "    outlier_indices.append(df_heart_scaled.loc[outlier_rows, column].index.to_list())\n",
    "\n",
    "# This flattens the list, removing any sublists\n",
    "\n",
    "outlier_indices = [item for sublist in outlier_indices for item in sublist]\n",
    "\n",
    "# Now, create and populate the new variable\n",
    "\n",
    "df_heart_scaled['outlier'] = False\n",
    "\n",
    "for row in outlier_indices:\n",
    "    df_heart_scaled.loc[row, 'outlier'] = True"
   ]
  },
  {
   "cell_type": "code",
   "execution_count": 18,
   "metadata": {},
   "outputs": [
    {
     "data": {
      "text/html": [
       "<div>\n",
       "<style scoped>\n",
       "    .dataframe tbody tr th:only-of-type {\n",
       "        vertical-align: middle;\n",
       "    }\n",
       "\n",
       "    .dataframe tbody tr th {\n",
       "        vertical-align: top;\n",
       "    }\n",
       "\n",
       "    .dataframe thead th {\n",
       "        text-align: right;\n",
       "    }\n",
       "</style>\n",
       "<table border=\"1\" class=\"dataframe\">\n",
       "  <thead>\n",
       "    <tr style=\"text-align: right;\">\n",
       "      <th></th>\n",
       "      <th>age</th>\n",
       "      <th>rest_bp</th>\n",
       "      <th>chol</th>\n",
       "      <th>max_heart_rate</th>\n",
       "      <th>oldpeak</th>\n",
       "    </tr>\n",
       "  </thead>\n",
       "  <tbody>\n",
       "    <tr>\n",
       "      <th>52</th>\n",
       "      <td>44</td>\n",
       "      <td>108</td>\n",
       "      <td>141</td>\n",
       "      <td>175</td>\n",
       "      <td>0.60</td>\n",
       "    </tr>\n",
       "    <tr>\n",
       "      <th>57</th>\n",
       "      <td>34</td>\n",
       "      <td>118</td>\n",
       "      <td>182</td>\n",
       "      <td>174</td>\n",
       "      <td>0.00</td>\n",
       "    </tr>\n",
       "    <tr>\n",
       "      <th>64</th>\n",
       "      <td>35</td>\n",
       "      <td>138</td>\n",
       "      <td>183</td>\n",
       "      <td>182</td>\n",
       "      <td>1.40</td>\n",
       "    </tr>\n",
       "    <tr>\n",
       "      <th>70</th>\n",
       "      <td>51</td>\n",
       "      <td>94</td>\n",
       "      <td>227</td>\n",
       "      <td>154</td>\n",
       "      <td>0.00</td>\n",
       "    </tr>\n",
       "    <tr>\n",
       "      <th>71</th>\n",
       "      <td>29</td>\n",
       "      <td>130</td>\n",
       "      <td>204</td>\n",
       "      <td>202</td>\n",
       "      <td>0.00</td>\n",
       "    </tr>\n",
       "    <tr>\n",
       "      <th>109</th>\n",
       "      <td>57</td>\n",
       "      <td>150</td>\n",
       "      <td>126</td>\n",
       "      <td>173</td>\n",
       "      <td>0.20</td>\n",
       "    </tr>\n",
       "    <tr>\n",
       "      <th>122</th>\n",
       "      <td>39</td>\n",
       "      <td>94</td>\n",
       "      <td>199</td>\n",
       "      <td>179</td>\n",
       "      <td>0.00</td>\n",
       "    </tr>\n",
       "    <tr>\n",
       "      <th>123</th>\n",
       "      <td>34</td>\n",
       "      <td>118</td>\n",
       "      <td>210</td>\n",
       "      <td>192</td>\n",
       "      <td>0.70</td>\n",
       "    </tr>\n",
       "    <tr>\n",
       "      <th>134</th>\n",
       "      <td>60</td>\n",
       "      <td>120</td>\n",
       "      <td>178</td>\n",
       "      <td>96</td>\n",
       "      <td>0.00</td>\n",
       "    </tr>\n",
       "    <tr>\n",
       "      <th>155</th>\n",
       "      <td>35</td>\n",
       "      <td>122</td>\n",
       "      <td>192</td>\n",
       "      <td>174</td>\n",
       "      <td>0.00</td>\n",
       "    </tr>\n",
       "    <tr>\n",
       "      <th>193</th>\n",
       "      <td>62</td>\n",
       "      <td>120</td>\n",
       "      <td>267</td>\n",
       "      <td>99</td>\n",
       "      <td>1.80</td>\n",
       "    </tr>\n",
       "    <tr>\n",
       "      <th>211</th>\n",
       "      <td>62</td>\n",
       "      <td>130</td>\n",
       "      <td>263</td>\n",
       "      <td>97</td>\n",
       "      <td>1.20</td>\n",
       "    </tr>\n",
       "    <tr>\n",
       "      <th>222</th>\n",
       "      <td>35</td>\n",
       "      <td>120</td>\n",
       "      <td>198</td>\n",
       "      <td>130</td>\n",
       "      <td>1.60</td>\n",
       "    </tr>\n",
       "    <tr>\n",
       "      <th>228</th>\n",
       "      <td>64</td>\n",
       "      <td>120</td>\n",
       "      <td>246</td>\n",
       "      <td>96</td>\n",
       "      <td>2.20</td>\n",
       "    </tr>\n",
       "    <tr>\n",
       "      <th>234</th>\n",
       "      <td>35</td>\n",
       "      <td>126</td>\n",
       "      <td>282</td>\n",
       "      <td>156</td>\n",
       "      <td>0.00</td>\n",
       "    </tr>\n",
       "    <tr>\n",
       "      <th>238</th>\n",
       "      <td>57</td>\n",
       "      <td>152</td>\n",
       "      <td>274</td>\n",
       "      <td>88</td>\n",
       "      <td>1.20</td>\n",
       "    </tr>\n",
       "    <tr>\n",
       "      <th>256</th>\n",
       "      <td>53</td>\n",
       "      <td>123</td>\n",
       "      <td>282</td>\n",
       "      <td>95</td>\n",
       "      <td>2.00</td>\n",
       "    </tr>\n",
       "    <tr>\n",
       "      <th>266</th>\n",
       "      <td>67</td>\n",
       "      <td>120</td>\n",
       "      <td>237</td>\n",
       "      <td>71</td>\n",
       "      <td>1.00</td>\n",
       "    </tr>\n",
       "    <tr>\n",
       "      <th>290</th>\n",
       "      <td>59</td>\n",
       "      <td>164</td>\n",
       "      <td>176</td>\n",
       "      <td>90</td>\n",
       "      <td>1.00</td>\n",
       "    </tr>\n",
       "    <tr>\n",
       "      <th>294</th>\n",
       "      <td>57</td>\n",
       "      <td>130</td>\n",
       "      <td>131</td>\n",
       "      <td>115</td>\n",
       "      <td>1.20</td>\n",
       "    </tr>\n",
       "  </tbody>\n",
       "</table>\n",
       "</div>"
      ],
      "text/plain": [
       "     age  rest_bp  chol  max_heart_rate              oldpeak\n",
       "52    44      108   141             175                 0.60\n",
       "57    34      118   182             174                 0.00\n",
       "64    35      138   183             182                 1.40\n",
       "70    51       94   227             154                 0.00\n",
       "71    29      130   204             202                 0.00\n",
       "109   57      150   126             173                 0.20\n",
       "122   39       94   199             179                 0.00\n",
       "123   34      118   210             192                 0.70\n",
       "134   60      120   178              96                 0.00\n",
       "155   35      122   192             174                 0.00\n",
       "193   62      120   267              99                 1.80\n",
       "211   62      130   263              97                 1.20\n",
       "222   35      120   198             130                 1.60\n",
       "228   64      120   246              96                 2.20\n",
       "234   35      126   282             156                 0.00\n",
       "238   57      152   274              88                 1.20\n",
       "256   53      123   282              95                 2.00\n",
       "266   67      120   237              71                 1.00\n",
       "290   59      164   176              90                 1.00\n",
       "294   57      130   131             115                 1.20"
      ]
     },
     "execution_count": 18,
     "metadata": {},
     "output_type": "execute_result"
    }
   ],
   "source": [
    "# Display the identified outliers\n",
    "# In all, 20 rows were identified, which is about 7% of the total (20 / 296)\n",
    "\n",
    "df_heart_scaled[df_heart_scaled.outlier == True][cols]"
   ]
  },
  {
   "cell_type": "markdown",
   "metadata": {},
   "source": [
    "### Descriptive Statistics\n",
    "\n",
    "The descriptive statistics are, overall, unremarkable. With the exception of *oldpeak*, the data are at least approximately normal; this makes sense, given that these are gross medical measurements that are known to be distributed this way."
   ]
  },
  {
   "cell_type": "code",
   "execution_count": 19,
   "metadata": {},
   "outputs": [
    {
     "data": {
      "text/html": [
       "<div>\n",
       "<style scoped>\n",
       "    .dataframe tbody tr th:only-of-type {\n",
       "        vertical-align: middle;\n",
       "    }\n",
       "\n",
       "    .dataframe tbody tr th {\n",
       "        vertical-align: top;\n",
       "    }\n",
       "\n",
       "    .dataframe thead th {\n",
       "        text-align: right;\n",
       "    }\n",
       "</style>\n",
       "<table border=\"1\" class=\"dataframe\">\n",
       "  <thead>\n",
       "    <tr style=\"text-align: right;\">\n",
       "      <th></th>\n",
       "      <th>age</th>\n",
       "      <th>rest_bp</th>\n",
       "      <th>chol</th>\n",
       "      <th>max_heart_rate</th>\n",
       "      <th>oldpeak</th>\n",
       "    </tr>\n",
       "  </thead>\n",
       "  <tbody>\n",
       "    <tr>\n",
       "      <th>count</th>\n",
       "      <td>296.00</td>\n",
       "      <td>296.00</td>\n",
       "      <td>296.00</td>\n",
       "      <td>296.00</td>\n",
       "      <td>296.00</td>\n",
       "    </tr>\n",
       "    <tr>\n",
       "      <th>mean</th>\n",
       "      <td>54.52</td>\n",
       "      <td>131.60</td>\n",
       "      <td>247.16</td>\n",
       "      <td>149.56</td>\n",
       "      <td>1.06</td>\n",
       "    </tr>\n",
       "    <tr>\n",
       "      <th>std</th>\n",
       "      <td>9.06</td>\n",
       "      <td>17.73</td>\n",
       "      <td>51.98</td>\n",
       "      <td>22.97</td>\n",
       "      <td>1.17</td>\n",
       "    </tr>\n",
       "    <tr>\n",
       "      <th>min</th>\n",
       "      <td>29.00</td>\n",
       "      <td>94.00</td>\n",
       "      <td>126.00</td>\n",
       "      <td>71.00</td>\n",
       "      <td>0.00</td>\n",
       "    </tr>\n",
       "    <tr>\n",
       "      <th>25%</th>\n",
       "      <td>48.00</td>\n",
       "      <td>120.00</td>\n",
       "      <td>211.00</td>\n",
       "      <td>133.00</td>\n",
       "      <td>0.00</td>\n",
       "    </tr>\n",
       "    <tr>\n",
       "      <th>50%</th>\n",
       "      <td>56.00</td>\n",
       "      <td>130.00</td>\n",
       "      <td>242.50</td>\n",
       "      <td>152.50</td>\n",
       "      <td>0.80</td>\n",
       "    </tr>\n",
       "    <tr>\n",
       "      <th>75%</th>\n",
       "      <td>61.00</td>\n",
       "      <td>140.00</td>\n",
       "      <td>275.25</td>\n",
       "      <td>166.00</td>\n",
       "      <td>1.65</td>\n",
       "    </tr>\n",
       "    <tr>\n",
       "      <th>max</th>\n",
       "      <td>77.00</td>\n",
       "      <td>200.00</td>\n",
       "      <td>564.00</td>\n",
       "      <td>202.00</td>\n",
       "      <td>6.20</td>\n",
       "    </tr>\n",
       "  </tbody>\n",
       "</table>\n",
       "</div>"
      ],
      "text/plain": [
       "                       age              rest_bp                 chol  \\\n",
       "count               296.00               296.00               296.00   \n",
       "mean                 54.52               131.60               247.16   \n",
       "std                   9.06                17.73                51.98   \n",
       "min                  29.00                94.00               126.00   \n",
       "25%                  48.00               120.00               211.00   \n",
       "50%                  56.00               130.00               242.50   \n",
       "75%                  61.00               140.00               275.25   \n",
       "max                  77.00               200.00               564.00   \n",
       "\n",
       "            max_heart_rate              oldpeak  \n",
       "count               296.00               296.00  \n",
       "mean                149.56                 1.06  \n",
       "std                  22.97                 1.17  \n",
       "min                  71.00                 0.00  \n",
       "25%                 133.00                 0.00  \n",
       "50%                 152.50                 0.80  \n",
       "75%                 166.00                 1.65  \n",
       "max                 202.00                 6.20  "
      ]
     },
     "execution_count": 19,
     "metadata": {},
     "output_type": "execute_result"
    }
   ],
   "source": [
    "df_heart_working[cols].describe()"
   ]
  },
  {
   "cell_type": "markdown",
   "metadata": {},
   "source": [
    "### Pairwise Plots of Continuous Variables\n",
    "\n",
    "Here we have plotted a scatter plot of each pair of continous variables. The scaled variables are used and outliers are excluded so that the plots are easier to interpret. The marginal distributions are also plotted on the diagonal. For both types of plots, the cases with heart disease are displayed in orange, while the cases without heart disease are displayed in blue."
   ]
  },
  {
   "cell_type": "code",
   "execution_count": 20,
   "metadata": {},
   "outputs": [
    {
     "data": {
      "text/plain": [
       "<seaborn.axisgrid.PairGrid at 0x167e06aee20>"
      ]
     },
     "execution_count": 20,
     "metadata": {},
     "output_type": "execute_result"
    },
    {
     "data": {
      "image/png": "[encoded data removed]",
      "text/plain": [
       "<Figure size 1157.75x1080 with 20 Axes>"
      ]
     },
     "metadata": {
      "needs_background": "light"
     },
     "output_type": "display_data"
    }
   ],
   "source": [
    "sns.pairplot(data=df_heart_scaled[df_heart_scaled.outlier == False], hue=\"heart_disease\", kind='scatter', vars=scaled_cols, corner=True, height=3)"
   ]
  },
  {
   "cell_type": "markdown",
   "metadata": {},
   "source": [
    "### Covariance and Correlation Matrices"
   ]
  },
  {
   "cell_type": "markdown",
   "metadata": {},
   "source": [
    "The correlation matrice provides a numeric estimate of the linear relationship between the continuous variables. Overall, the correlations are minor: two exceptions are the correlation between age and maximum heart rate (-0.40) and between oldpeak and maximum heart rate (-0.35). In both cases, the pair plots show the expected relationship.\n",
    "\n",
    "The heat map provides the same information as the correlation matrix, but encodes the values with contrasting colors to make them easier to interpret. Here we have explicitly set the maximum and minimum values for the color scale at (-1,1) and centered the scale on 0: positive correlations are progressively darker blue, while negative correlations are progressively lighter yellow."
   ]
  },
  {
   "cell_type": "code",
   "execution_count": 21,
   "metadata": {},
   "outputs": [
    {
     "data": {
      "text/plain": [
       "array([[      1.00,       0.29,       0.20,      -0.40,       0.20],\n",
       "       [      0.29,       1.00,       0.13,      -0.05,       0.20],\n",
       "       [      0.20,       0.13,       1.00,      -0.00,       0.04],\n",
       "       [     -0.40,      -0.05,      -0.00,       1.00,      -0.35],\n",
       "       [      0.20,       0.20,       0.04,      -0.35,       1.00]])"
      ]
     },
     "execution_count": 21,
     "metadata": {},
     "output_type": "execute_result"
    }
   ],
   "source": [
    "cors = np.corrcoef(df_heart_scaled[cols], rowvar=False)\n",
    "cors"
   ]
  },
  {
   "cell_type": "code",
   "execution_count": 22,
   "metadata": {},
   "outputs": [
    {
     "data": {
      "text/plain": [
       "<AxesSubplot:>"
      ]
     },
     "execution_count": 22,
     "metadata": {},
     "output_type": "execute_result"
    },
    {
     "data": {
      "image/png": "[encoded data removed]",
      "text/plain": [
       "<Figure size 432x288 with 2 Axes>"
      ]
     },
     "metadata": {
      "needs_background": "light"
     },
     "output_type": "display_data"
    }
   ],
   "source": [
    "sns.heatmap(cors, vmin=-1, vmax=1, center=0, cmap=\"YlGnBu\", linewidths = .25, xticklabels = cols, yticklabels=cols)"
   ]
  },
  {
   "cell_type": "markdown",
   "metadata": {},
   "source": [
    "### Plots of Continuous Variables vs. Heart Disease\n",
    "\n",
    "Plotting a boxplot of each continuous variable vs. heart disease to estimate the relationship. We overlay a stripplot to show the actual data values as well.\n",
    "\n",
    "*Age*, *max_heart_rate*, and *oldpeak* show differences between heart disease and no disease; the other two variables show minor differences: these may be removed from the final model for parsimony and to help with overfitting."
   ]
  },
  {
   "cell_type": "code",
   "execution_count": 23,
   "metadata": {},
   "outputs": [
    {
     "data": {
      "image/png": "[encoded data removed]",
      "text/plain": [
       "<Figure size 432x288 with 1 Axes>"
      ]
     },
     "metadata": {
      "needs_background": "light"
     },
     "output_type": "display_data"
    },
    {
     "data": {
      "image/png": "[encoded data removed]",
      "text/plain": [
       "<Figure size 432x288 with 1 Axes>"
      ]
     },
     "metadata": {
      "needs_background": "light"
     },
     "output_type": "display_data"
    },
    {
     "data": {
      "image/png": "[encoded data removed]",
      "text/plain": [
       "<Figure size 432x288 with 1 Axes>"
      ]
     },
     "metadata": {
      "needs_background": "light"
     },
     "output_type": "display_data"
    },
    {
     "data": {
      "image/png": "[encoded data removed]",
      "text/plain": [
       "<Figure size 432x288 with 1 Axes>"
      ]
     },
     "metadata": {
      "needs_background": "light"
     },
     "output_type": "display_data"
    },
    {
     "data": {
      "image/png": "[encoded data removed]",
      "text/plain": [
       "<Figure size 432x288 with 1 Axes>"
      ]
     },
     "metadata": {
      "needs_background": "light"
     },
     "output_type": "display_data"
    }
   ],
   "source": [
    "# Need to create separate figures so plots don't overwrite each other.\n",
    "\n",
    "df = df_heart_scaled[df_heart_scaled.outlier == False]\n",
    "for i, col in enumerate(df[scaled_cols]):\n",
    "    plt.figure(i)\n",
    "    sns.boxplot(x=\"heart_disease\", y=col, data=df)\n",
    "    sns.stripplot(x=\"heart_disease\", y=col, data=df, color=\".25\")"
   ]
  },
  {
   "cell_type": "markdown",
   "metadata": {},
   "source": [
    "### Crosstabs of Categorical Variables\n",
    "\n",
    "To estimate the effect of each categorical variable on the target, we compute their cross-tabulations and estimate a chi-squared test of independence for each combination.\n",
    "\n",
    "All except *blood_sugar* and *restecg* have very significant p-values (*restecg* is close to standard significance at 0.078, but with 8 simultaneous comparisons the expirement-wise cutoff is approx. 0.005)."
   ]
  },
  {
   "cell_type": "code",
   "execution_count": 24,
   "metadata": {},
   "outputs": [
    {
     "name": "stdout",
     "output_type": "stream",
     "text": [
      "Crosstab of  sex  with heart_disease\n"
     ]
    },
    {
     "data": {
      "text/html": [
       "<div>\n",
       "<style scoped>\n",
       "    .dataframe tbody tr th:only-of-type {\n",
       "        vertical-align: middle;\n",
       "    }\n",
       "\n",
       "    .dataframe tbody tr th {\n",
       "        vertical-align: top;\n",
       "    }\n",
       "\n",
       "    .dataframe thead th {\n",
       "        text-align: right;\n",
       "    }\n",
       "</style>\n",
       "<table border=\"1\" class=\"dataframe\">\n",
       "  <thead>\n",
       "    <tr style=\"text-align: right;\">\n",
       "      <th>heart_disease</th>\n",
       "      <th>0</th>\n",
       "      <th>1</th>\n",
       "      <th>All</th>\n",
       "    </tr>\n",
       "    <tr>\n",
       "      <th>sex</th>\n",
       "      <th></th>\n",
       "      <th></th>\n",
       "      <th></th>\n",
       "    </tr>\n",
       "  </thead>\n",
       "  <tbody>\n",
       "    <tr>\n",
       "      <th>0</th>\n",
       "      <td>71</td>\n",
       "      <td>24</td>\n",
       "      <td>95</td>\n",
       "    </tr>\n",
       "    <tr>\n",
       "      <th>1</th>\n",
       "      <td>89</td>\n",
       "      <td>112</td>\n",
       "      <td>201</td>\n",
       "    </tr>\n",
       "    <tr>\n",
       "      <th>All</th>\n",
       "      <td>160</td>\n",
       "      <td>136</td>\n",
       "      <td>296</td>\n",
       "    </tr>\n",
       "  </tbody>\n",
       "</table>\n",
       "</div>"
      ],
      "text/plain": [
       "heart_disease    0    1  All\n",
       "sex                         \n",
       "0               71   24   95\n",
       "1               89  112  201\n",
       "All            160  136  296"
      ]
     },
     "metadata": {},
     "output_type": "display_data"
    },
    {
     "name": "stdout",
     "output_type": "stream",
     "text": [
      "chi-square:  24.097\n",
      "p-value: 0.000\n",
      "degrees of freedom: 4\n",
      "\n",
      "\n",
      "Crosstab of  chest_pain  with heart_disease\n"
     ]
    },
    {
     "data": {
      "text/html": [
       "<div>\n",
       "<style scoped>\n",
       "    .dataframe tbody tr th:only-of-type {\n",
       "        vertical-align: middle;\n",
       "    }\n",
       "\n",
       "    .dataframe tbody tr th {\n",
       "        vertical-align: top;\n",
       "    }\n",
       "\n",
       "    .dataframe thead th {\n",
       "        text-align: right;\n",
       "    }\n",
       "</style>\n",
       "<table border=\"1\" class=\"dataframe\">\n",
       "  <thead>\n",
       "    <tr style=\"text-align: right;\">\n",
       "      <th>heart_disease</th>\n",
       "      <th>0</th>\n",
       "      <th>1</th>\n",
       "      <th>All</th>\n",
       "    </tr>\n",
       "    <tr>\n",
       "      <th>chest_pain</th>\n",
       "      <th></th>\n",
       "      <th></th>\n",
       "      <th></th>\n",
       "    </tr>\n",
       "  </thead>\n",
       "  <tbody>\n",
       "    <tr>\n",
       "      <th>0</th>\n",
       "      <td>39</td>\n",
       "      <td>102</td>\n",
       "      <td>141</td>\n",
       "    </tr>\n",
       "    <tr>\n",
       "      <th>1</th>\n",
       "      <td>121</td>\n",
       "      <td>34</td>\n",
       "      <td>155</td>\n",
       "    </tr>\n",
       "    <tr>\n",
       "      <th>All</th>\n",
       "      <td>160</td>\n",
       "      <td>136</td>\n",
       "      <td>296</td>\n",
       "    </tr>\n",
       "  </tbody>\n",
       "</table>\n",
       "</div>"
      ],
      "text/plain": [
       "heart_disease    0    1  All\n",
       "chest_pain                  \n",
       "0               39  102  141\n",
       "1              121   34  155\n",
       "All            160  136  296"
      ]
     },
     "metadata": {},
     "output_type": "display_data"
    },
    {
     "name": "stdout",
     "output_type": "stream",
     "text": [
      "chi-square:  75.532\n",
      "p-value: 0.000\n",
      "degrees of freedom: 4\n",
      "\n",
      "\n",
      "Crosstab of  blood_sugar  with heart_disease\n"
     ]
    },
    {
     "data": {
      "text/html": [
       "<div>\n",
       "<style scoped>\n",
       "    .dataframe tbody tr th:only-of-type {\n",
       "        vertical-align: middle;\n",
       "    }\n",
       "\n",
       "    .dataframe tbody tr th {\n",
       "        vertical-align: top;\n",
       "    }\n",
       "\n",
       "    .dataframe thead th {\n",
       "        text-align: right;\n",
       "    }\n",
       "</style>\n",
       "<table border=\"1\" class=\"dataframe\">\n",
       "  <thead>\n",
       "    <tr style=\"text-align: right;\">\n",
       "      <th>heart_disease</th>\n",
       "      <th>0</th>\n",
       "      <th>1</th>\n",
       "      <th>All</th>\n",
       "    </tr>\n",
       "    <tr>\n",
       "      <th>blood_sugar</th>\n",
       "      <th></th>\n",
       "      <th></th>\n",
       "      <th></th>\n",
       "    </tr>\n",
       "  </thead>\n",
       "  <tbody>\n",
       "    <tr>\n",
       "      <th>0</th>\n",
       "      <td>137</td>\n",
       "      <td>116</td>\n",
       "      <td>253</td>\n",
       "    </tr>\n",
       "    <tr>\n",
       "      <th>1</th>\n",
       "      <td>23</td>\n",
       "      <td>20</td>\n",
       "      <td>43</td>\n",
       "    </tr>\n",
       "    <tr>\n",
       "      <th>All</th>\n",
       "      <td>160</td>\n",
       "      <td>136</td>\n",
       "      <td>296</td>\n",
       "    </tr>\n",
       "  </tbody>\n",
       "</table>\n",
       "</div>"
      ],
      "text/plain": [
       "heart_disease    0    1  All\n",
       "blood_sugar                 \n",
       "0              137  116  253\n",
       "1               23   20   43\n",
       "All            160  136  296"
      ]
     },
     "metadata": {},
     "output_type": "display_data"
    },
    {
     "name": "stdout",
     "output_type": "stream",
     "text": [
      "chi-square:  0.006\n",
      "p-value: 1.000\n",
      "degrees of freedom: 4\n",
      "\n",
      "\n",
      "Crosstab of  restecg  with heart_disease\n"
     ]
    },
    {
     "data": {
      "text/html": [
       "<div>\n",
       "<style scoped>\n",
       "    .dataframe tbody tr th:only-of-type {\n",
       "        vertical-align: middle;\n",
       "    }\n",
       "\n",
       "    .dataframe tbody tr th {\n",
       "        vertical-align: top;\n",
       "    }\n",
       "\n",
       "    .dataframe thead th {\n",
       "        text-align: right;\n",
       "    }\n",
       "</style>\n",
       "<table border=\"1\" class=\"dataframe\">\n",
       "  <thead>\n",
       "    <tr style=\"text-align: right;\">\n",
       "      <th>heart_disease</th>\n",
       "      <th>0</th>\n",
       "      <th>1</th>\n",
       "      <th>All</th>\n",
       "    </tr>\n",
       "    <tr>\n",
       "      <th>restecg</th>\n",
       "      <th></th>\n",
       "      <th></th>\n",
       "      <th></th>\n",
       "    </tr>\n",
       "  </thead>\n",
       "  <tbody>\n",
       "    <tr>\n",
       "      <th>0</th>\n",
       "      <td>92</td>\n",
       "      <td>55</td>\n",
       "      <td>147</td>\n",
       "    </tr>\n",
       "    <tr>\n",
       "      <th>1</th>\n",
       "      <td>68</td>\n",
       "      <td>81</td>\n",
       "      <td>149</td>\n",
       "    </tr>\n",
       "    <tr>\n",
       "      <th>All</th>\n",
       "      <td>160</td>\n",
       "      <td>136</td>\n",
       "      <td>296</td>\n",
       "    </tr>\n",
       "  </tbody>\n",
       "</table>\n",
       "</div>"
      ],
      "text/plain": [
       "heart_disease    0    1  All\n",
       "restecg                     \n",
       "0               92   55  147\n",
       "1               68   81  149\n",
       "All            160  136  296"
      ]
     },
     "metadata": {},
     "output_type": "display_data"
    },
    {
     "name": "stdout",
     "output_type": "stream",
     "text": [
      "chi-square:  8.557\n",
      "p-value: 0.073\n",
      "degrees of freedom: 4\n",
      "\n",
      "\n",
      "Crosstab of  angina  with heart_disease\n"
     ]
    },
    {
     "data": {
      "text/html": [
       "<div>\n",
       "<style scoped>\n",
       "    .dataframe tbody tr th:only-of-type {\n",
       "        vertical-align: middle;\n",
       "    }\n",
       "\n",
       "    .dataframe tbody tr th {\n",
       "        vertical-align: top;\n",
       "    }\n",
       "\n",
       "    .dataframe thead th {\n",
       "        text-align: right;\n",
       "    }\n",
       "</style>\n",
       "<table border=\"1\" class=\"dataframe\">\n",
       "  <thead>\n",
       "    <tr style=\"text-align: right;\">\n",
       "      <th>heart_disease</th>\n",
       "      <th>0</th>\n",
       "      <th>1</th>\n",
       "      <th>All</th>\n",
       "    </tr>\n",
       "    <tr>\n",
       "      <th>angina</th>\n",
       "      <th></th>\n",
       "      <th></th>\n",
       "      <th></th>\n",
       "    </tr>\n",
       "  </thead>\n",
       "  <tbody>\n",
       "    <tr>\n",
       "      <th>0</th>\n",
       "      <td>137</td>\n",
       "      <td>62</td>\n",
       "      <td>199</td>\n",
       "    </tr>\n",
       "    <tr>\n",
       "      <th>1</th>\n",
       "      <td>23</td>\n",
       "      <td>74</td>\n",
       "      <td>97</td>\n",
       "    </tr>\n",
       "    <tr>\n",
       "      <th>All</th>\n",
       "      <td>160</td>\n",
       "      <td>136</td>\n",
       "      <td>296</td>\n",
       "    </tr>\n",
       "  </tbody>\n",
       "</table>\n",
       "</div>"
      ],
      "text/plain": [
       "heart_disease    0    1  All\n",
       "angina                      \n",
       "0              137   62  199\n",
       "1               23   74   97\n",
       "All            160  136  296"
      ]
     },
     "metadata": {},
     "output_type": "display_data"
    },
    {
     "name": "stdout",
     "output_type": "stream",
     "text": [
      "chi-square:  53.486\n",
      "p-value: 0.000\n",
      "degrees of freedom: 4\n",
      "\n",
      "\n",
      "Crosstab of  ST_slope  with heart_disease\n"
     ]
    },
    {
     "data": {
      "text/html": [
       "<div>\n",
       "<style scoped>\n",
       "    .dataframe tbody tr th:only-of-type {\n",
       "        vertical-align: middle;\n",
       "    }\n",
       "\n",
       "    .dataframe tbody tr th {\n",
       "        vertical-align: top;\n",
       "    }\n",
       "\n",
       "    .dataframe thead th {\n",
       "        text-align: right;\n",
       "    }\n",
       "</style>\n",
       "<table border=\"1\" class=\"dataframe\">\n",
       "  <thead>\n",
       "    <tr style=\"text-align: right;\">\n",
       "      <th>heart_disease</th>\n",
       "      <th>0</th>\n",
       "      <th>1</th>\n",
       "      <th>All</th>\n",
       "    </tr>\n",
       "    <tr>\n",
       "      <th>ST_slope</th>\n",
       "      <th></th>\n",
       "      <th></th>\n",
       "      <th></th>\n",
       "    </tr>\n",
       "  </thead>\n",
       "  <tbody>\n",
       "    <tr>\n",
       "      <th>0</th>\n",
       "      <td>48</td>\n",
       "      <td>89</td>\n",
       "      <td>137</td>\n",
       "    </tr>\n",
       "    <tr>\n",
       "      <th>1</th>\n",
       "      <td>112</td>\n",
       "      <td>47</td>\n",
       "      <td>159</td>\n",
       "    </tr>\n",
       "    <tr>\n",
       "      <th>All</th>\n",
       "      <td>160</td>\n",
       "      <td>136</td>\n",
       "      <td>296</td>\n",
       "    </tr>\n",
       "  </tbody>\n",
       "</table>\n",
       "</div>"
      ],
      "text/plain": [
       "heart_disease    0    1  All\n",
       "ST_slope                    \n",
       "0               48   89  137\n",
       "1              112   47  159\n",
       "All            160  136  296"
      ]
     },
     "metadata": {},
     "output_type": "display_data"
    },
    {
     "name": "stdout",
     "output_type": "stream",
     "text": [
      "chi-square:  37.141\n",
      "p-value: 0.000\n",
      "degrees of freedom: 4\n",
      "\n",
      "\n",
      "Crosstab of  flouroscopy  with heart_disease\n"
     ]
    },
    {
     "data": {
      "text/html": [
       "<div>\n",
       "<style scoped>\n",
       "    .dataframe tbody tr th:only-of-type {\n",
       "        vertical-align: middle;\n",
       "    }\n",
       "\n",
       "    .dataframe tbody tr th {\n",
       "        vertical-align: top;\n",
       "    }\n",
       "\n",
       "    .dataframe thead th {\n",
       "        text-align: right;\n",
       "    }\n",
       "</style>\n",
       "<table border=\"1\" class=\"dataframe\">\n",
       "  <thead>\n",
       "    <tr style=\"text-align: right;\">\n",
       "      <th>heart_disease</th>\n",
       "      <th>0</th>\n",
       "      <th>1</th>\n",
       "      <th>All</th>\n",
       "    </tr>\n",
       "    <tr>\n",
       "      <th>flouroscopy</th>\n",
       "      <th></th>\n",
       "      <th></th>\n",
       "      <th></th>\n",
       "    </tr>\n",
       "  </thead>\n",
       "  <tbody>\n",
       "    <tr>\n",
       "      <th>0</th>\n",
       "      <td>129</td>\n",
       "      <td>44</td>\n",
       "      <td>173</td>\n",
       "    </tr>\n",
       "    <tr>\n",
       "      <th>1</th>\n",
       "      <td>31</td>\n",
       "      <td>92</td>\n",
       "      <td>123</td>\n",
       "    </tr>\n",
       "    <tr>\n",
       "      <th>All</th>\n",
       "      <td>160</td>\n",
       "      <td>136</td>\n",
       "      <td>296</td>\n",
       "    </tr>\n",
       "  </tbody>\n",
       "</table>\n",
       "</div>"
      ],
      "text/plain": [
       "heart_disease    0    1  All\n",
       "flouroscopy                 \n",
       "0              129   44  173\n",
       "1               31   92  123\n",
       "All            160  136  296"
      ]
     },
     "metadata": {},
     "output_type": "display_data"
    },
    {
     "name": "stdout",
     "output_type": "stream",
     "text": [
      "chi-square:  70.533\n",
      "p-value: 0.000\n",
      "degrees of freedom: 4\n",
      "\n",
      "\n",
      "Crosstab of  heart_defect  with heart_disease\n"
     ]
    },
    {
     "data": {
      "text/html": [
       "<div>\n",
       "<style scoped>\n",
       "    .dataframe tbody tr th:only-of-type {\n",
       "        vertical-align: middle;\n",
       "    }\n",
       "\n",
       "    .dataframe tbody tr th {\n",
       "        vertical-align: top;\n",
       "    }\n",
       "\n",
       "    .dataframe thead th {\n",
       "        text-align: right;\n",
       "    }\n",
       "</style>\n",
       "<table border=\"1\" class=\"dataframe\">\n",
       "  <thead>\n",
       "    <tr style=\"text-align: right;\">\n",
       "      <th>heart_disease</th>\n",
       "      <th>0</th>\n",
       "      <th>1</th>\n",
       "      <th>All</th>\n",
       "    </tr>\n",
       "    <tr>\n",
       "      <th>heart_defect</th>\n",
       "      <th></th>\n",
       "      <th></th>\n",
       "      <th></th>\n",
       "    </tr>\n",
       "  </thead>\n",
       "  <tbody>\n",
       "    <tr>\n",
       "      <th>0</th>\n",
       "      <td>127</td>\n",
       "      <td>36</td>\n",
       "      <td>163</td>\n",
       "    </tr>\n",
       "    <tr>\n",
       "      <th>1</th>\n",
       "      <td>33</td>\n",
       "      <td>100</td>\n",
       "      <td>133</td>\n",
       "    </tr>\n",
       "    <tr>\n",
       "      <th>All</th>\n",
       "      <td>160</td>\n",
       "      <td>136</td>\n",
       "      <td>296</td>\n",
       "    </tr>\n",
       "  </tbody>\n",
       "</table>\n",
       "</div>"
      ],
      "text/plain": [
       "heart_disease    0    1  All\n",
       "heart_defect                \n",
       "0              127   36  163\n",
       "1               33  100  133\n",
       "All            160  136  296"
      ]
     },
     "metadata": {},
     "output_type": "display_data"
    },
    {
     "name": "stdout",
     "output_type": "stream",
     "text": [
      "chi-square:  83.156\n",
      "p-value: 0.000\n",
      "degrees of freedom: 4\n",
      "\n",
      "\n"
     ]
    }
   ],
   "source": [
    "# compute the cross-tabulation of each variable with heart_disease\n",
    "# and estimate the chi-squared test of independence.\n",
    "\n",
    "cat_columns = ['sex', 'chest_pain', 'blood_sugar', 'restecg', 'angina', 'ST_slope', 'flouroscopy','heart_defect']\n",
    "\n",
    "for column in cat_columns:\n",
    "    ctab = pd.crosstab(index=df_heart_scaled[column], columns=df_heart_scaled.heart_disease, margins=True)\n",
    "    print(\"Crosstab of \", column, \" with heart_disease\")\n",
    "    display(ctab)\n",
    "\n",
    "    chi2, pvalue, dof, expected = chi2_contingency(ctab)\n",
    "\n",
    "    print(f'chi-square:  {chi2:0.3f}')\n",
    "    print(f'p-value: {pvalue:0.3f}')\n",
    "    print(f'degrees of freedom: {dof}')\n",
    "    print('\\n')"
   ]
  },
  {
   "cell_type": "markdown",
   "metadata": {},
   "source": [
    "## Logistic Regression Model\n",
    "\n",
    "Having prepared and analyzed the data set, we now fit a logistic regression to predict the presence or absence of heart disease from these 13 predictors. Logistic regression is used both because it handles continuous and discrete data well, and because the coefficients possess some explanatory value as to the factors that are most important to prediction. Logistic regression can also estimate the predicted probability of a sample patient having heart disease, given values for the predictors: this in turn can estimate hazard rates for men vs. women, older vs. younger, and so on.\n",
    "\n",
    "We will fit three different logistic regression models:\n",
    "\n",
    "* Model 1: All predictors and all outliers\n",
    "* Model 2: Reduced predictor set and all outliers\n",
    "* Model 3: Reduced predictor set and no outliers\n",
    "\n",
    "The reduced predictor set excludes the predictors *rest_bp*, *chol*, *blood_sugar*, and *restecg*. These are the 4 predictors that have the weakest relationship with the target variable *heart_disease*, as indicated above.\n",
    "\n",
    "To make comparing the models easier, we'll define them as dictionaries and then evaluate them sequentially in a loop. We'll also define a dictionary of parameters for all three models so changes to these values can be easily made."
   ]
  },
  {
   "cell_type": "markdown",
   "metadata": {},
   "source": [
    "### Model Definitions"
   ]
  },
  {
   "cell_type": "code",
   "execution_count": 25,
   "metadata": {},
   "outputs": [],
   "source": [
    "# Configure three logistic regression models\n",
    "\n",
    "params = {\n",
    "    'test_size': 0.3,\n",
    "    'random_state': 823,\n",
    "    'metrics': ['accuracy','neg_mean_squared_error'],\n",
    "    'cv_splits': 5\n",
    "}\n",
    "\n",
    "model1 = {\n",
    "    'model_name': 'clf_all',\n",
    "    'columns': [\"age\", \"sex\", \"chest_pain\", \"max_heart_rate\", \"angina\", \"oldpeak\", \"ST_slope\", \"flouroscopy\", \"heart_defect\", \"rest_bp\", \"chol\", \"blood_sugar\", \"restecg\", \"outlier\"],\n",
    "    'keep_outliers': True\n",
    "}\n",
    "\n",
    "model2 = {\n",
    "    'model_name': 'clf_reduced',\n",
    "    'columns': [\"age\", \"sex\", \"chest_pain\", \"max_heart_rate\", \"angina\", \"oldpeak\", \"ST_slope\", \"flouroscopy\", \"heart_defect\", \"outlier\"],\n",
    "    'keep_outliers': True\n",
    "}\n",
    "\n",
    "model3 = {\n",
    "    'model_name': 'clf_trimmed',\n",
    "    'columns': [\"age\", \"sex\", \"chest_pain\", \"max_heart_rate\", \"angina\", \"oldpeak\", \"ST_slope\", \"flouroscopy\", \"heart_defect\", \"outlier\"],\n",
    "    'keep_outliers': False\n",
    "}\n"
   ]
  },
  {
   "cell_type": "markdown",
   "metadata": {},
   "source": [
    "### Model Estimations"
   ]
  },
  {
   "cell_type": "code",
   "execution_count": 26,
   "metadata": {},
   "outputs": [],
   "source": [
    "# Evaluate each model in turn\n",
    "\n",
    "models = [model1, model2, model3]\n",
    "clf = LogisticRegression(max_iter=1000)\n",
    "df = df_heart_scaled.copy()\n",
    "model_coef = collections.OrderedDict()            # Needed so order of columns in df matches insertion order\n",
    "\n",
    "for model in models:\n",
    "    \n",
    "    # Keep or exclude outliers\n",
    "    \n",
    "    if (model['keep_outliers']):\n",
    "        pass\n",
    "    else:\n",
    "        df = df[df.outlier == False]\n",
    "    \n",
    "    # Outlier column no longer needed, and will interfere with coef_df, below\n",
    "    \n",
    "    model['columns'].remove('outlier')\n",
    "    \n",
    "    # Define the model\n",
    "\n",
    "    clf_cols = model['columns']\n",
    "    X = df[clf_cols]\n",
    "    y = df[\"heart_disease\"]\n",
    "    \n",
    "    # Test-train split and accuracy scores\n",
    "    \n",
    "    X_train, X_test, y_train, y_test = train_test_split(X, y, test_size = params['test_size'], shuffle = True, random_state=params['random_state'])\n",
    "    log_regress = clf.fit(X_train, y_train)\n",
    "    \n",
    "    # Add samples and results to model dictionary\n",
    "    \n",
    "    model['clf'] = clf\n",
    "    \n",
    "    model['X_train'] = X_train\n",
    "    model['X_test'] = X_test\n",
    "    model['y_train'] = y_train\n",
    "    model['y_test'] = y_test\n",
    "    \n",
    "    model['nbr_of_cases'] = len(df.index)\n",
    "    model['train_accuracy'] = clf.score(X_train, y_train)\n",
    "    model['test_accuracy'] = clf.score(X_test, y_test)\n",
    "    \n",
    "    # cross-validate with 5 folds and shuffling\n",
    "    \n",
    "    cross_val = KFold(n_splits = params['cv_splits'], shuffle = True, random_state = params['random_state'])\n",
    "    model['cross_val_scores'] = cross_validate(clf, X, y, scoring=params['metrics'], cv=cross_val)\n",
    "    \n",
    "    # Add classification report\n",
    "\n",
    "    model['predictions'] = clf.predict(X_test)\n",
    "    model['y_test'] = y_test\n",
    "    \n",
    "    # Append coefficients to array and set to 'coef' key\n",
    "    # flatten() needed since coef_ is nested array\n",
    "    \n",
    "    model['coef'] = np.array(log_regress.coef_.flatten())\n",
    "    model_coef.update({\n",
    "        model['model_name']: model['coef']})"
   ]
  },
  {
   "cell_type": "markdown",
   "metadata": {},
   "source": [
    "### Model Summaries\n",
    "\n",
    "Here are summaries of the accuracy and classification performance for each of the three models. The accuracy is how often the model correctly predicted the target, while the classification report provides more detail on whether the model overpredicts the target (precision) or underpredicts (recall). For each model, the accuracy and negative mean squared error (MSE) from a 5-fold cross validation are also reported.\n",
    "\n",
    "Overall, the three models behave much the same: the greatest difference in accuracy scores across all models is between the train and test data for the *clf_reduced* model (0.86 and 0.82, respectively). The classification scores are also similar for both targets( *no disease* and *disease*), showing a slight tendency to better predict the presence of disease than its absence: the greatest difference here is for the *clf_trimmed* model, with an f1 score of 0.86 for the target *no disease* and 0.79 for the target *disease*. None of the three models show significant differences between precision and recall for either target. The 7% difference between the targets for the *clf_trimmed* model may be due to the removal of 20 outliers (7% of the total); this model also uses the reduced feature set containing 10 features rather than 14 for the *clf_all* model: depending on which features were more likely to contain outliers, this may also contribute to the observed difference. Further investigation of the outliers may confirm or reject this hypothesis.\n",
    "\n",
    "The cross-validation scores show that all three models have a degree of sample dependency: the differences between the highest and lowest accuracy scores are:\n",
    "\n",
    "* clf_all:          (0.83, 0.92)\n",
    "* clf_reduced:      (0.75, 0.90)\n",
    "* clf_trimmed:      (0.76, 0.89)\n",
    "\n",
    "The difference between the MSE of each model are of similar magnitude and are correlated with their respective accuracy scores for all three models. More investigation is needed before any of these models is considered ready for production use. One avenue would be to re-run the cross-validations without prior shuffling: this would place the same cases in each fold for all three models, and observed similarities or differences here might highlight the portion of the overall data set that is sample dependent. \n",
    "\n",
    "Another possibility for the differences is the relatively low number of cases for each fold: the *clf_all* and *clf_reduced* have 58 cases per fold, which are estimated for 13 features (*clf_all*) or 9 features (*clf_reduced*). The guideline for regression models is between 10 - 15 cases per feature: neither model comes close to meeting this criterion. Since the *clf_trimmed* model has both the reduced set of features and 20 fewer cases, the result is even more pronounced.\n",
    "\n",
    "There are two possibilities that may improve the reliability of the cross-validation estimates: the most straightforward is to use fewer folds, with 4 folds still keeping within the recommended guidelines for cross-validation and 3 folds at least approaching the guidelines for regression, yielding a fold-size of 90 for the *clf_all* and *clf_reduced* models and a size of 71 for the *clf_trimmed* model. This gives 7, 10, and 8 cases per feature, respectively (using standard rounding); an improvement, although still not meeting the guidelines. The reliability of the cross-validation would also, of course, be reduced. Excluding more features from each model would further improve these numbers, although there are no features in the reduced model that are obvious candidates. Employing another validation strategy, such as leave-one-out validation, might also be a solution, although again at the expense of model reliability. If none of these methods are justified given the data, one mitigation would be to bootstrap confidence intervals for each cross-validation; although these would necessarily be quite wide, they at least would provide criteria against which to measure the relative dependence of each model on the data sample. Clearly, further analysis is needed on this limitation."
   ]
  },
  {
   "cell_type": "code",
   "execution_count": 27,
   "metadata": {},
   "outputs": [
    {
     "name": "stdout",
     "output_type": "stream",
     "text": [
      "Model: CLF_ALL (296 cases)\n",
      "------------------------------\n",
      "Training Data Score (accuracy): 0.874\n",
      "Testing Data Score (accuracy): 0.854\n",
      "\n",
      "*** Cross-Validation (5 splits)\n",
      "Test accuracy: \t[      0.83       0.83       0.88       0.92       0.85]\n",
      "Test MSE: \t[     -0.17      -0.17      -0.12      -0.08      -0.15]\n",
      "\n",
      "*** Classification Report\n",
      "              precision    recall  f1-score   support\n",
      "\n",
      "  no disease       0.88      0.86      0.87        50\n",
      "     disease       0.82      0.85      0.84        39\n",
      "\n",
      "    accuracy                           0.85        89\n",
      "   macro avg       0.85      0.85      0.85        89\n",
      "weighted avg       0.85      0.85      0.85        89\n",
      "\n",
      "\n",
      "\n",
      "Model: CLF_REDUCED (296 cases)\n",
      "------------------------------\n",
      "Training Data Score (accuracy): 0.86\n",
      "Testing Data Score (accuracy): 0.82\n",
      "\n",
      "*** Cross-Validation (5 splits)\n",
      "Test accuracy: \t[      0.75       0.83       0.90       0.90       0.86]\n",
      "Test MSE: \t[     -0.25      -0.17      -0.10      -0.10      -0.14]\n",
      "\n",
      "*** Classification Report\n",
      "              precision    recall  f1-score   support\n",
      "\n",
      "  no disease       0.84      0.84      0.84        50\n",
      "     disease       0.79      0.79      0.79        39\n",
      "\n",
      "    accuracy                           0.82        89\n",
      "   macro avg       0.82      0.82      0.82        89\n",
      "weighted avg       0.82      0.82      0.82        89\n",
      "\n",
      "\n",
      "\n",
      "Model: CLF_TRIMMED (276 cases)\n",
      "------------------------------\n",
      "Training Data Score (accuracy): 0.845\n",
      "Testing Data Score (accuracy): 0.831\n",
      "\n",
      "*** Cross-Validation (5 splits)\n",
      "Test accuracy: \t[      0.89       0.76       0.89       0.82       0.87]\n",
      "Test MSE: \t[     -0.11      -0.24      -0.11      -0.18      -0.13]\n",
      "\n",
      "*** Classification Report\n",
      "              precision    recall  f1-score   support\n",
      "\n",
      "  no disease       0.86      0.86      0.86        49\n",
      "     disease       0.79      0.79      0.79        34\n",
      "\n",
      "    accuracy                           0.83        83\n",
      "   macro avg       0.83      0.83      0.83        83\n",
      "weighted avg       0.83      0.83      0.83        83\n",
      "\n",
      "\n",
      "\n"
     ]
    }
   ],
   "source": [
    "# Display the model results, cross-validation, and classification report\n",
    "\n",
    "for model in models:\n",
    "    print(f\"Model: {model['model_name'].upper()} ({model['nbr_of_cases']} cases)\")\n",
    "    print(\"-\" * 30)\n",
    "    print(f\"Training Data Score (accuracy): {model['train_accuracy']:.3}\")\n",
    "    print(f\"Testing Data Score (accuracy): {model['test_accuracy']:.3}\")\n",
    "    print()\n",
    "    print(f\"*** Cross-Validation ({params['cv_splits']} splits)\")\n",
    "    print(f\"Test accuracy: \\t{model['cross_val_scores']['test_accuracy']}\")\n",
    "    print(f\"Test MSE: \\t{model['cross_val_scores']['test_neg_mean_squared_error']}\")\n",
    "    print()\n",
    "    print(\"*** Classification Report\")\n",
    "    print(classification_report(model['y_test'], model['predictions'], target_names=['no disease', 'disease']))\n",
    "    print('\\n')"
   ]
  },
  {
   "cell_type": "markdown",
   "metadata": {},
   "source": [
    "### Coefficient Summaries\n",
    "\n",
    "As noted above, one advantage logistic regression has against other classification algorithms is the relative explanatory power of the model coefficients. These are listed below for all 3 models, with the feature names identifying the rows.\n",
    "\n",
    "Overall, the coefficients for each feature are consistent in both sign and magnitude across all models: the largest single difference is between the *flouroscopy* coefficients for the *clf_all* and *clf_reduced* models and the *clf_trimmed* model, with the former two very similar at 2.04 and 1.89, respectively, and the latter estimated as 1.39: a difference of at least 0.50. Using standardized feature values would reveal the true importance of this difference. The coefficients for *angina* show a similar, although less pronounced difference of 0.71, 0.76, and 0.45 respectively. These differences, however, only impact 2 out of the 10 features common to all 3 models; the overall strong agreement between the remaining 8 features is a clear indication that the choice of model is robust to the differences between the number of feature and the removal of outliers with respect to coefficient estimation. Computing p-values through bootstrapping would likely provide further evidence of this hypothesis given the expected large values of the standard errors.\n",
    "\n",
    "In terms of explanatory power, all 3 models assign relatively greater importance to the features *sex* (averaging 1.01), *chest_pain* (-1.15), *flouroscopy* (1.77), and *heart_defect* (1.44); it is interesting, although perhaps coincidence that these features are all binary. Of these, the negative magnitude for *chest_pain* is counterintuitive, although several commenters on Kaggle familiar with the data set have reproduced this finding among several different models and procedures. Of the continuous features, neither *age* or *max_heart_rate* show much importance despite their clear relationship to the target demonstrated in their respective boxplots; this may be due to the moderate correlation (-0.40) between the features and, in addition, the relatively wide range of values they each exhibit.\n",
    "\n",
    "The coefficient for the remaining continous feature, *oldpeak*, averages 0.52 across the 3 models, albeit with a much smaller value range (SHOW HERE). According to the feature description, this represents the decrease in the ST node observed by exercise relative to rest. It remains for a medical professional to determine whether this finding is actually of diagnostic interest. Of the features excluded from the two reduced models, only the presence of a fasting blood sugar > 120 mg/dl is perhaps important; again, this would require validation from a medical professional.\n"
   ]
  },
  {
   "cell_type": "code",
   "execution_count": 28,
   "metadata": {},
   "outputs": [
    {
     "data": {
      "text/html": [
       "<div>\n",
       "<style scoped>\n",
       "    .dataframe tbody tr th:only-of-type {\n",
       "        vertical-align: middle;\n",
       "    }\n",
       "\n",
       "    .dataframe tbody tr th {\n",
       "        vertical-align: top;\n",
       "    }\n",
       "\n",
       "    .dataframe thead th {\n",
       "        text-align: right;\n",
       "    }\n",
       "</style>\n",
       "<table border=\"1\" class=\"dataframe\">\n",
       "  <thead>\n",
       "    <tr style=\"text-align: right;\">\n",
       "      <th></th>\n",
       "      <th>clf_all</th>\n",
       "      <th>clf_reduced</th>\n",
       "      <th>clf_trimmed</th>\n",
       "    </tr>\n",
       "    <tr>\n",
       "      <th>coef</th>\n",
       "      <th></th>\n",
       "      <th></th>\n",
       "      <th></th>\n",
       "    </tr>\n",
       "  </thead>\n",
       "  <tbody>\n",
       "    <tr>\n",
       "      <th>age</th>\n",
       "      <td>-0.02</td>\n",
       "      <td>0.00</td>\n",
       "      <td>-0.00</td>\n",
       "    </tr>\n",
       "    <tr>\n",
       "      <th>sex</th>\n",
       "      <td>1.13</td>\n",
       "      <td>0.94</td>\n",
       "      <td>0.96</td>\n",
       "    </tr>\n",
       "    <tr>\n",
       "      <th>chest_pain</th>\n",
       "      <td>-1.11</td>\n",
       "      <td>-1.13</td>\n",
       "      <td>-1.20</td>\n",
       "    </tr>\n",
       "    <tr>\n",
       "      <th>max_heart_rate</th>\n",
       "      <td>-0.02</td>\n",
       "      <td>-0.02</td>\n",
       "      <td>-0.01</td>\n",
       "    </tr>\n",
       "    <tr>\n",
       "      <th>angina</th>\n",
       "      <td>0.71</td>\n",
       "      <td>0.76</td>\n",
       "      <td>0.45</td>\n",
       "    </tr>\n",
       "    <tr>\n",
       "      <th>oldpeak</th>\n",
       "      <td>0.50</td>\n",
       "      <td>0.52</td>\n",
       "      <td>0.54</td>\n",
       "    </tr>\n",
       "    <tr>\n",
       "      <th>ST_slope</th>\n",
       "      <td>-0.70</td>\n",
       "      <td>-0.76</td>\n",
       "      <td>-0.55</td>\n",
       "    </tr>\n",
       "    <tr>\n",
       "      <th>flouroscopy</th>\n",
       "      <td>2.04</td>\n",
       "      <td>1.89</td>\n",
       "      <td>1.39</td>\n",
       "    </tr>\n",
       "    <tr>\n",
       "      <th>heart_defect</th>\n",
       "      <td>1.36</td>\n",
       "      <td>1.43</td>\n",
       "      <td>1.52</td>\n",
       "    </tr>\n",
       "    <tr>\n",
       "      <th>rest_bp</th>\n",
       "      <td>0.02</td>\n",
       "      <td>nan</td>\n",
       "      <td>nan</td>\n",
       "    </tr>\n",
       "    <tr>\n",
       "      <th>chol</th>\n",
       "      <td>0.01</td>\n",
       "      <td>nan</td>\n",
       "      <td>nan</td>\n",
       "    </tr>\n",
       "    <tr>\n",
       "      <th>blood_sugar</th>\n",
       "      <td>-0.37</td>\n",
       "      <td>nan</td>\n",
       "      <td>nan</td>\n",
       "    </tr>\n",
       "    <tr>\n",
       "      <th>restecg</th>\n",
       "      <td>0.10</td>\n",
       "      <td>nan</td>\n",
       "      <td>nan</td>\n",
       "    </tr>\n",
       "  </tbody>\n",
       "</table>\n",
       "</div>"
      ],
      "text/plain": [
       "                            clf_all          clf_reduced          clf_trimmed\n",
       "coef                                                                         \n",
       "age                           -0.02                 0.00                -0.00\n",
       "sex                            1.13                 0.94                 0.96\n",
       "chest_pain                    -1.11                -1.13                -1.20\n",
       "max_heart_rate                -0.02                -0.02                -0.01\n",
       "angina                         0.71                 0.76                 0.45\n",
       "oldpeak                        0.50                 0.52                 0.54\n",
       "ST_slope                      -0.70                -0.76                -0.55\n",
       "flouroscopy                    2.04                 1.89                 1.39\n",
       "heart_defect                   1.36                 1.43                 1.52\n",
       "rest_bp                        0.02                  nan                  nan\n",
       "chol                           0.01                  nan                  nan\n",
       "blood_sugar                   -0.37                  nan                  nan\n",
       "restecg                        0.10                  nan                  nan"
      ]
     },
     "execution_count": 28,
     "metadata": {},
     "output_type": "execute_result"
    }
   ],
   "source": [
    "# Make df from model coefficients with feature names as index\n",
    "\n",
    "# Make data dict (ordered); done this way since models have\n",
    "# different number of feature\n",
    "\n",
    "data = collections.OrderedDict( [(k, pd.Series(v)) for k,v in model_coef.items()])\n",
    "\n",
    "# Add coef column for index; use model1 columns since all are needed\n",
    "# (Yes, this is hacky, but best workaround I have found)\n",
    "\n",
    "data.update( {\"coef\": model1['columns']})\n",
    "\n",
    "# Make df and set index to coef\n",
    "\n",
    "coef_df = pd.DataFrame(data=data)\n",
    "coef_df.set_index('coef')"
   ]
  },
  {
   "cell_type": "markdown",
   "metadata": {},
   "source": [
    "### Predicted Values and Respective Hazard Rates\n",
    "\n",
    "Since the coefficients estimated by logistic regression are not themselves final, but further transformed into the relative likelihood of the feature's contribution to the target level, it is often helpful to estimate this contribution for typical cases. This is done here for both the probability of attaining the target level *heart_disease* and the relative increase in likelihood based on common demographic factors.\n",
    "\n",
    "#### Probability of Heart Disease for Typical Cases"
   ]
  },
  {
   "cell_type": "code",
   "execution_count": 29,
   "metadata": {},
   "outputs": [],
   "source": [
    "# Code to estimate probabilities for targets for both\n",
    "# all test cases and for a \"typical\" male and female\n",
    "\n",
    "# for both sexes, all continous features are set at the sample mean\n",
    "# and all categorical features are set at the majority target level.\n",
    "# female = 0 and male = 1\n",
    "\n",
    "# note that this code is incorrect as it stands: instead,\n",
    "# it should first select only the female and male cases\n",
    "# and then set the features to the mean and majority values;\n",
    "# right now, it just uses the mean and majority values for\n",
    "# the entire data set for both sexes."
   ]
  },
  {
   "cell_type": "code",
   "execution_count": 30,
   "metadata": {},
   "outputs": [
    {
     "data": {
      "text/plain": [
       "array([0, 0, 0, 1, 0, 0, 1, 0, 0, 0, 1, 1, 0, 1, 1, 1, 0, 1, 1, 1, 0, 0, 0, 0, 0, 1, 0, 1, 1, 1, 0, 1, 0, 0, 0, 1, 0, 0, 1, 0, 1, 1, 1, 0, 1, 0, 1, 1, 0, 0, 0, 0, 0, 1, 0, 1, 0, 0, 1, 1, 0, 1, 1, 0, 1, 1, 0, 0, 0, 0, 0, 0, 1, 1, 0, 1, 0, 0, 1, 0, 0, 1, 1, 1, 1, 0, 1, 0, 0], dtype=int64)"
      ]
     },
     "execution_count": 30,
     "metadata": {},
     "output_type": "execute_result"
    }
   ],
   "source": [
    "model2['clf'].predict(model2['X_test'])\n"
   ]
  },
  {
   "cell_type": "code",
   "execution_count": 31,
   "metadata": {},
   "outputs": [
    {
     "data": {
      "text/plain": [
       "array([[     -0.07,      -2.73],\n",
       "       [     -0.04,      -3.37],\n",
       "       [     -0.06,      -2.78],\n",
       "       [     -1.08,      -0.41],\n",
       "       [     -0.63,      -0.76],\n",
       "       [     -0.13,      -2.09],\n",
       "       [     -3.12,      -0.05],\n",
       "       [     -0.12,      -2.16],\n",
       "       [     -0.08,      -2.62],\n",
       "       [     -0.22,      -1.63]])"
      ]
     },
     "execution_count": 31,
     "metadata": {},
     "output_type": "execute_result"
    }
   ],
   "source": [
    "model2['clf'].predict_log_proba(model2['X_test'])[0:10]\n"
   ]
  },
  {
   "cell_type": "code",
   "execution_count": 32,
   "metadata": {},
   "outputs": [
    {
     "data": {
      "text/plain": [
       "array([[      0.93,       0.07],\n",
       "       [      0.97,       0.03],\n",
       "       [      0.94,       0.06],\n",
       "       [      0.34,       0.66],\n",
       "       [      0.53,       0.47],\n",
       "       [      0.88,       0.12],\n",
       "       [      0.04,       0.96],\n",
       "       [      0.88,       0.12],\n",
       "       [      0.93,       0.07],\n",
       "       [      0.80,       0.20]])"
      ]
     },
     "execution_count": 32,
     "metadata": {},
     "output_type": "execute_result"
    }
   ],
   "source": [
    "model2['clf'].predict_proba(model2['X_test'])[0:10]\n"
   ]
  },
  {
   "cell_type": "code",
   "execution_count": 134,
   "metadata": {},
   "outputs": [],
   "source": [
    "# Probably a bit too fancy, but fun to code\n",
    "# This creates a dict and iterates it to store\n",
    "# the mean of each feature when sex = male and sex = female\n",
    "\n",
    "feature_test_dict = {}\n",
    "\n",
    "params = dict(\n",
    "    {'male': 0,\n",
    "     'female': 1}\n",
    ")\n",
    "\n",
    "for k,v in params.items():\n",
    "    feature_test_dict[k] = model2['X_train']\\\n",
    "        [(model2['X_train'].loc[:, 'sex'] == v)]\\\n",
    "        .mean()\\\n",
    "        .tolist()"
   ]
  },
  {
   "cell_type": "code",
   "execution_count": 135,
   "metadata": {},
   "outputs": [
    {
     "data": {
      "text/plain": [
       "[56.072463768115945,\n",
       " 0.0,\n",
       " 0.5942028985507246,\n",
       " 149.43478260869566,\n",
       " 0.2318840579710145,\n",
       " 0.9826086956521739,\n",
       " 0.5072463768115942,\n",
       " 0.4057971014492754,\n",
       " 0.17391304347826086]"
      ]
     },
     "execution_count": 135,
     "metadata": {},
     "output_type": "execute_result"
    }
   ],
   "source": [
    "feature_test_dict['male']"
   ]
  },
  {
   "cell_type": "code",
   "execution_count": 136,
   "metadata": {},
   "outputs": [],
   "source": [
    "\n",
    "\n",
    "new_dict = {}\n",
    "\n",
    "for k,v in feature_test_dict.items():\n",
    "    v = [0 if x < 0.5 else 1 if (x >= 0.5 and x <= .9) else x for x in v]\n",
    "    new_dict[k] = v\n",
    "        "
   ]
  },
  {
   "cell_type": "code",
   "execution_count": 137,
   "metadata": {},
   "outputs": [
    {
     "data": {
      "text/plain": [
       "{'male': [56.072463768115945,\n",
       "  0,\n",
       "  1,\n",
       "  149.43478260869566,\n",
       "  0,\n",
       "  0.9826086956521739,\n",
       "  1,\n",
       "  0,\n",
       "  0],\n",
       " 'female': [54.15942028985507,\n",
       "  1.0,\n",
       "  0,\n",
       "  150.16666666666666,\n",
       "  0,\n",
       "  1.2268115942028985,\n",
       "  1,\n",
       "  0,\n",
       "  1]}"
      ]
     },
     "execution_count": 137,
     "metadata": {},
     "output_type": "execute_result"
    }
   ],
   "source": [
    "new_dict"
   ]
  },
  {
   "cell_type": "code",
   "execution_count": 145,
   "metadata": {},
   "outputs": [
    {
     "ename": "TypeError",
     "evalue": "unhashable type: 'list'",
     "output_type": "error",
     "traceback": [
      "\u001b[1;31m---------------------------------------------------------------------------\u001b[0m",
      "\u001b[1;31mTypeError\u001b[0m                                 Traceback (most recent call last)",
      "\u001b[1;32m<ipython-input-145-b9eed4d53777>\u001b[0m in \u001b[0;36m<module>\u001b[1;34m\u001b[0m\n\u001b[0;32m      1\u001b[0m \u001b[1;31m# not quite\u001b[0m\u001b[1;33m\u001b[0m\u001b[1;33m\u001b[0m\u001b[1;33m\u001b[0m\u001b[0m\n\u001b[0;32m      2\u001b[0m \u001b[1;33m\u001b[0m\u001b[0m\n\u001b[1;32m----> 3\u001b[1;33m \u001b[1;33m{\u001b[0m\u001b[1;33m[\u001b[0m\u001b[1;36m0\u001b[0m \u001b[1;32mfor\u001b[0m \u001b[0mx\u001b[0m \u001b[1;32min\u001b[0m \u001b[0mv\u001b[0m\u001b[1;33m]\u001b[0m \u001b[1;32mfor\u001b[0m \u001b[1;33m(\u001b[0m\u001b[0mk\u001b[0m\u001b[1;33m,\u001b[0m\u001b[0mv\u001b[0m\u001b[1;33m)\u001b[0m \u001b[1;32min\u001b[0m \u001b[0mfeature_test_dict\u001b[0m\u001b[1;33m.\u001b[0m\u001b[0mitems\u001b[0m\u001b[1;33m(\u001b[0m\u001b[1;33m)\u001b[0m\u001b[1;33m}\u001b[0m\u001b[1;33m\u001b[0m\u001b[1;33m\u001b[0m\u001b[0m\n\u001b[0m\u001b[0;32m      4\u001b[0m     \u001b[1;31m#[0 if x < 0.5 else 1 if (x >= 0.5 and x <= .9) else x for x in v]\u001b[0m\u001b[1;33m\u001b[0m\u001b[1;33m\u001b[0m\u001b[1;33m\u001b[0m\u001b[0m\n",
      "\u001b[1;32m<ipython-input-145-b9eed4d53777>\u001b[0m in \u001b[0;36m<setcomp>\u001b[1;34m(.0)\u001b[0m\n\u001b[0;32m      1\u001b[0m \u001b[1;31m# not quite\u001b[0m\u001b[1;33m\u001b[0m\u001b[1;33m\u001b[0m\u001b[1;33m\u001b[0m\u001b[0m\n\u001b[0;32m      2\u001b[0m \u001b[1;33m\u001b[0m\u001b[0m\n\u001b[1;32m----> 3\u001b[1;33m \u001b[1;33m{\u001b[0m\u001b[1;33m[\u001b[0m\u001b[1;36m0\u001b[0m \u001b[1;32mfor\u001b[0m \u001b[0mx\u001b[0m \u001b[1;32min\u001b[0m \u001b[0mv\u001b[0m\u001b[1;33m]\u001b[0m \u001b[1;32mfor\u001b[0m \u001b[1;33m(\u001b[0m\u001b[0mk\u001b[0m\u001b[1;33m,\u001b[0m\u001b[0mv\u001b[0m\u001b[1;33m)\u001b[0m \u001b[1;32min\u001b[0m \u001b[0mfeature_test_dict\u001b[0m\u001b[1;33m.\u001b[0m\u001b[0mitems\u001b[0m\u001b[1;33m(\u001b[0m\u001b[1;33m)\u001b[0m\u001b[1;33m}\u001b[0m\u001b[1;33m\u001b[0m\u001b[1;33m\u001b[0m\u001b[0m\n\u001b[0m\u001b[0;32m      4\u001b[0m     \u001b[1;31m#[0 if x < 0.5 else 1 if (x >= 0.5 and x <= .9) else x for x in v]\u001b[0m\u001b[1;33m\u001b[0m\u001b[1;33m\u001b[0m\u001b[1;33m\u001b[0m\u001b[0m\n",
      "\u001b[1;31mTypeError\u001b[0m: unhashable type: 'list'"
     ]
    }
   ],
   "source": [
    "# not quite\n",
    "\n",
    "{[0 for x in v] for (k,v) in feature_test_dict.items()}\n",
    "    #[0 if x < 0.5 else 1 if (x >= 0.5 and x <= .9) else x for x in v]"
   ]
  },
  {
   "cell_type": "code",
   "execution_count": 112,
   "metadata": {},
   "outputs": [
    {
     "data": {
      "text/plain": [
       "{'male': [56.072463768115945,\n",
       "  0,\n",
       "  1,\n",
       "  149.43478260869566,\n",
       "  0,\n",
       "  0.9826086956521739,\n",
       "  1,\n",
       "  0,\n",
       "  0],\n",
       " 'female': [54.15942028985507,\n",
       "  1.0,\n",
       "  0,\n",
       "  150.16666666666666,\n",
       "  0,\n",
       "  1.2268115942028985,\n",
       "  1,\n",
       "  0,\n",
       "  1]}"
      ]
     },
     "execution_count": 112,
     "metadata": {},
     "output_type": "execute_result"
    }
   ],
   "source": [
    "new_dict"
   ]
  },
  {
   "cell_type": "code",
   "execution_count": 55,
   "metadata": {},
   "outputs": [],
   "source": [
    "X_features_male = [0 if x < 0.5 else 1 if (x >= 0.5 and x <= 1) else x for x in X_features_male]"
   ]
  },
  {
   "cell_type": "code",
   "execution_count": 56,
   "metadata": {},
   "outputs": [
    {
     "data": {
      "text/plain": [
       "[56.072463768115945, 0, 1, 149.43478260869566, 0, 1, 1, 0, 0]"
      ]
     },
     "execution_count": 56,
     "metadata": {},
     "output_type": "execute_result"
    }
   ],
   "source": [
    "X_features_male"
   ]
  },
  {
   "cell_type": "code",
   "execution_count": 33,
   "metadata": {},
   "outputs": [
    {
     "data": {
      "text/plain": [
       "age                             54.80\n",
       "sex                              0.67\n",
       "chest_pain                       0.52\n",
       "max_heart_rate                 149.92\n",
       "angina                           0.34\n",
       "oldpeak                          1.15\n",
       "ST_slope                         0.51\n",
       "flouroscopy                      0.43\n",
       "heart_defect                     0.44\n",
       "dtype: float64"
      ]
     },
     "execution_count": 33,
     "metadata": {},
     "output_type": "execute_result"
    }
   ],
   "source": [
    "df_means = pd.DataFrame(data=model2['X_train']).mean()\n",
    "df_means"
   ]
  },
  {
   "cell_type": "code",
   "execution_count": null,
   "metadata": {},
   "outputs": [],
   "source": []
  },
  {
   "cell_type": "code",
   "execution_count": 34,
   "metadata": {},
   "outputs": [],
   "source": [
    "X_feature_values = df_means.tolist()\n"
   ]
  },
  {
   "cell_type": "code",
   "execution_count": 35,
   "metadata": {},
   "outputs": [
    {
     "data": {
      "text/plain": [
       "[54.79710144927536, 1, 1, 149.92270531400968, 0, 1.1454106280193237, 1, 0, 0]"
      ]
     },
     "execution_count": 35,
     "metadata": {},
     "output_type": "execute_result"
    }
   ],
   "source": [
    "X_feature_values = [0 if x < 0.5 else 1 if (x >= 0.5 and x <= 1) else x for x in X_feature_values]\n",
    "X_feature_values"
   ]
  },
  {
   "cell_type": "code",
   "execution_count": 36,
   "metadata": {},
   "outputs": [],
   "source": [
    "X_features_means_male = np.array(X_feature_values).reshape(1, -1)\n",
    "X_features_means_female = X_features_means_male.copy()\n",
    "X_features_means_female[0][1] = 0\n"
   ]
  },
  {
   "cell_type": "code",
   "execution_count": 37,
   "metadata": {},
   "outputs": [
    {
     "data": {
      "text/plain": [
       "array([[     54.80,       1.00,       1.00,     149.92,       0.00,       1.15,       1.00,       0.00,       0.00]])"
      ]
     },
     "execution_count": 37,
     "metadata": {},
     "output_type": "execute_result"
    }
   ],
   "source": [
    "X_features_means_male"
   ]
  },
  {
   "cell_type": "code",
   "execution_count": 38,
   "metadata": {},
   "outputs": [
    {
     "data": {
      "text/plain": [
       "array([[     54.80,       0.00,       1.00,     149.92,       0.00,       1.15,       1.00,       0.00,       0.00]])"
      ]
     },
     "execution_count": 38,
     "metadata": {},
     "output_type": "execute_result"
    }
   ],
   "source": [
    "X_features_means_female"
   ]
  },
  {
   "cell_type": "code",
   "execution_count": 39,
   "metadata": {},
   "outputs": [
    {
     "data": {
      "text/plain": [
       "array([[      0.95,       0.05]])"
      ]
     },
     "execution_count": 39,
     "metadata": {},
     "output_type": "execute_result"
    }
   ],
   "source": [
    "model2['clf'].predict_proba(X_features_means_female)\n"
   ]
  },
  {
   "cell_type": "code",
   "execution_count": 40,
   "metadata": {},
   "outputs": [
    {
     "data": {
      "text/plain": [
       "array([[      0.89,       0.11]])"
      ]
     },
     "execution_count": 40,
     "metadata": {},
     "output_type": "execute_result"
    }
   ],
   "source": [
    "model2['clf'].predict_proba(X_features_means_male)"
   ]
  },
  {
   "cell_type": "code",
   "execution_count": null,
   "metadata": {},
   "outputs": [],
   "source": []
  }
 ],
 "metadata": {
  "kernelspec": {
   "display_name": "heart-disease",
   "language": "python",
   "name": "heart-disease"
  },
  "language_info": {
   "codemirror_mode": {
    "name": "ipython",
    "version": 3
   },
   "file_extension": ".py",
   "mimetype": "text/x-python",
   "name": "python",
   "nbconvert_exporter": "python",
   "pygments_lexer": "ipython3",
   "version": "3.8.5"
  },
  "toc-autonumbering": true,
  "toc-showtags": false
 },
 "nbformat": 4,
 "nbformat_minor": 4
}
